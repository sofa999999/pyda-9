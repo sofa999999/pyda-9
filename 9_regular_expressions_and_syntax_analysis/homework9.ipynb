{
 "cells": [
  {
   "cell_type": "markdown",
   "metadata": {},
   "source": [
    "Задание 1.\n",
    "Напишите функцию, которая принимает на вход строку и проверяет является ли она валидным транспортным номером. Если да, то функция должна возвращать отдельно номер и регион."
   ]
  },
  {
   "cell_type": "code",
   "execution_count": 2,
   "metadata": {},
   "outputs": [],
   "source": [
    "import re "
   ]
  },
  {
   "cell_type": "code",
   "execution_count": 185,
   "metadata": {
    "scrolled": true
   },
   "outputs": [],
   "source": [
    "def get_num_transport():\n",
    "    transport = input('Введите номер транспортного средства: ')\n",
    "    return transport\n",
    "def region_and_number(transport):#учет российского номера с разной длиной региона\n",
    "    regex_transport = r'^([А-Я]{1}\\d{3}[А-Я]{2})(\\d{1,3})$'\n",
    "    result__transport = re.search(regex_transport, transport, flags=re.IGNORECASE)\n",
    "    if result__transport:\n",
    "        return result__transport.group(1,2)\n",
    "    else:\n",
    "        return 'Номер введен некорректно'"
   ]
  },
  {
   "cell_type": "code",
   "execution_count": 187,
   "metadata": {},
   "outputs": [
    {
     "name": "stdout",
     "output_type": "stream",
     "text": [
      "Введите номер транспортного средства: т235тх1954\n"
     ]
    },
    {
     "data": {
      "text/plain": [
       "'Номер введен некорректно'"
      ]
     },
     "execution_count": 187,
     "metadata": {},
     "output_type": "execute_result"
    }
   ],
   "source": [
    "region_and_number(get_num_transport())"
   ]
  },
  {
   "cell_type": "markdown",
   "metadata": {},
   "source": [
    "Задание 2.\n",
    "Постарайтесь написать (в крайнем случае найти) самый полный шаблон для проверки e-mail адресов через регулярное выражение, которая проверяет e-mail адрес на валидность. Можно руководствоваться следующими минимальными требованиями:\n",
    "• адрес должен содержать специальный символ “@”, который отделяет имя пользователя почтовой системы от доменного имени;\n",
    "• адрес не должен содержать следующие символы: “пробел”, “,”, “:”, “;”, “!”, “#”, “%”, “*”, “(”, “)”, “=”, “+”, “{”, “}”, \" \" \", \" ’ \", \" / \", \" \\ \" и “|”;\n",
    "• адрес должен состоять только из латинских символов;\n",
    "• после символа “@” должна быть как минимум одна “.”;\n",
    "• после последней точки должно быть не менее 2-х и не более 4-х символов, причем наличие цифр не допускается;\n",
    "• между последней точкой и символом “@” должно быть не менее 2-х символов\n",
    "• слева от “@” должно быть не менее четырех символов\n"
   ]
  },
  {
   "cell_type": "code",
   "execution_count": 205,
   "metadata": {},
   "outputs": [
    {
     "name": "stdout",
     "output_type": "stream",
     "text": [
      "['sofa12@mail.ru']\n"
     ]
    }
   ],
   "source": [
    "mail = 'sofa12@mail.ru'\n",
    "pattern = r\"^[a-zA-Z0-9_]{4,}\\@[a-zA-Z0-9_]{2,}\\.+[^0-9,:;!#%*()=+{}'/\\|\\s]{2,4}\"\n",
    "val = re.findall(pattern, mail)\n",
    "if val:\n",
    "    print(val)\n",
    "else:\n",
    "    print('mail не верный')"
   ]
  },
  {
   "cell_type": "markdown",
   "metadata": {},
   "source": [
    "**Задание 3. **\n",
    "Напишите функцию, которая будет удалять все последовательные повторы слов из заданной строки при помощи регулярных выражений."
   ]
  },
  {
   "cell_type": "code",
   "execution_count": 206,
   "metadata": {},
   "outputs": [],
   "source": [
    "str_ = 'Довольно распространённая ошибка ошибка ошибка — это лишний повтор повтор слова слова. Смешно, не не правда ли? Не нужно портить хор    хоровод '\n",
    "def delword(str_):\n",
    "    pattern = r'\\b([^\\d\\W_]+)(\\s+\\1)+\\b'\n",
    "    return re.sub(pattern, r'\\1', str_)"
   ]
  },
  {
   "cell_type": "code",
   "execution_count": 208,
   "metadata": {},
   "outputs": [
    {
     "data": {
      "text/plain": [
       "'Довольно распространённая ошибка — это лишний повтор слова. Смешно, не правда ли? Не нужно портить хор    хоровод '"
      ]
     },
     "execution_count": 208,
     "metadata": {},
     "output_type": "execute_result"
    }
   ],
   "source": [
    "delword(str_)"
   ]
  },
  {
   "cell_type": "markdown",
   "metadata": {},
   "source": [
    "Напишите функцию, которая будет проверять номер сотового телефона на валидность, если он валиден, то переводить его в формат:\n",
    "+7(xxx)-xxx-xx-xx\n",
    "​\n",
    "Постарайтесь предусмотреть как можно больше адекватных форматов изначального ввода номера. Примеры валидных форматов:\n",
    "​\n",
    "• +7 955 555-55-55;+\n",
    "• 9555555555;\n",
    "• 8(955)555-55-55;\n",
    "• +7 955 555 55 55;+\n",
    "• 7(955) 555-55-55;\n",
    "• (7 955+555+55+55."
   ]
  },
  {
   "cell_type": "code",
   "execution_count": 177,
   "metadata": {},
   "outputs": [],
   "source": [
    "list_ = ['+7 955 555-55-55','9555555555','8(955)555-55-55','+7 955 555 55 55','7(955) 555-55-55','+7 955+555+55+55', '895125458']\n",
    "def phone():\n",
    "    phone_number = input('Введите номер телефона')\n",
    "    return phone_number\n",
    "def valid_num(phone_number):\n",
    "    pattern = r'(\\+?7|8)?[\\D\\W]*(\\d{3})[\\D\\W]*(\\d{3})[\\D\\W]*(\\d{2})[\\D\\W]*(\\d{2})'\n",
    "    if re.fullmatch(pattern, phone_number):\n",
    "         return re.sub(pattern, r'+7(\\2)-\\3-\\4-\\5', phone_number)\n",
    "    else:\n",
    "        return 'Номер неверный'"
   ]
  },
  {
   "cell_type": "code",
   "execution_count": 178,
   "metadata": {},
   "outputs": [
    {
     "name": "stdout",
     "output_type": "stream",
     "text": [
      "+7(955)-555-55-55\n",
      "+7(955)-555-55-55\n",
      "+7(955)-555-55-55\n",
      "+7(955)-555-55-55\n",
      "+7(955)-555-55-55\n",
      "+7(955)-555-55-55\n",
      "Номер неверный\n"
     ]
    }
   ],
   "source": [
    "for number in list_:\n",
    "    print(valid_num(number))"
   ]
  },
  {
   "cell_type": "code",
   "execution_count": null,
   "metadata": {},
   "outputs": [],
   "source": []
  }
 ],
 "metadata": {
  "kernelspec": {
   "display_name": "Python 3",
   "language": "python",
   "name": "python3"
  },
  "language_info": {
   "codemirror_mode": {
    "name": "ipython",
    "version": 3
   },
   "file_extension": ".py",
   "mimetype": "text/x-python",
   "name": "python",
   "nbconvert_exporter": "python",
   "pygments_lexer": "ipython3",
   "version": "3.7.6"
  }
 },
 "nbformat": 4,
 "nbformat_minor": 4
}
