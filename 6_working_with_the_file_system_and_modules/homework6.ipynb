{
 "cells": [
  {
   "cell_type": "markdown",
   "metadata": {},
   "source": [
    "# Домашнее задание\n",
    "1. Переведите содержимое файла purchase_log.txt в словарь purchases вида:\n",
    "```python\n",
    "{'1840e0b9d4': 'Продукты', ...}\n",
    "```\n",
    "\n",
    "2. Для каждого user_id в файле visit_log.csv определите третий столбец с категорией покупки (если покупка была, сам файл visit_log.csv изменять не надо). Запишите в файл funnel.csv визиты из файла visit_log.csv, в которых были покупки с указанием категории.\n",
    "\n",
    "Учтите условия на данные:\n",
    "- содержимое purchase_log.txt помещается в оперативную память компьютера\n",
    "- содержимое visit_log.csv - нет; используйте только построчную обработку этого файла"
   ]
  },
  {
   "cell_type": "code",
   "execution_count": 2,
   "metadata": {},
   "outputs": [],
   "source": [
    "import json"
   ]
  },
  {
   "cell_type": "code",
   "execution_count": 3,
   "metadata": {},
   "outputs": [],
   "source": [
    "purchases = {}\n",
    "\n",
    "i = 0\n",
    "with open('purchase_log.txt', encoding='utf-8') as f: #чтение файла\n",
    "#     f.readline()    \n",
    "    for line in f:\n",
    "#         print(type(line))\n",
    "#         next(f)\n",
    "        dict_ = json.loads(line)\n",
    "#         print(type(dict_))\n",
    "#         for key, value in dict_.items():\n",
    "#             print(key)\n",
    "        purchases.setdefault(dict_['user_id'], [])\n",
    "        purchases[dict_['user_id']].append(dict_['category'])"
   ]
  },
  {
   "cell_type": "code",
   "execution_count": 4,
   "metadata": {},
   "outputs": [],
   "source": [
    "with open('visit_log.csv', encoding='utf-8') as visit, open('funnel.csv', 'w', encoding='cp1251') as funnel: \n",
    "    header = visit.readline().strip('\\n').split(',')\n",
    "    header.append('category')\n",
    "    f = '; '.join(header)\n",
    "    funnel.write(f\"{';'.join(header)}\\n\")\n",
    "\n",
    "#     print(type(f))\n",
    "    for lines in visit:\n",
    "        lines = lines.strip('\\n').split(',')\n",
    "\n",
    "# #         for l in enumerate(lines):\n",
    "        if lines[0] in purchases:\n",
    "            lines.append(', '.join(purchases[lines[0]]))\n",
    "#             csv = '; '.join(lines)\n",
    "            funnel.write(f\"{'; '.join(lines)}\\n\")\n",
    "#             print(csv)\n",
    "#             funnel.close()"
   ]
  },
  {
   "cell_type": "code",
   "execution_count": null,
   "metadata": {},
   "outputs": [],
   "source": []
  }
 ],
 "metadata": {
  "kernelspec": {
   "display_name": "Python 3",
   "language": "python",
   "name": "python3"
  },
  "language_info": {
   "codemirror_mode": {
    "name": "ipython",
    "version": 3
   },
   "file_extension": ".py",
   "mimetype": "text/x-python",
   "name": "python",
   "nbconvert_exporter": "python",
   "pygments_lexer": "ipython3",
   "version": "3.7.6"
  }
 },
 "nbformat": 4,
 "nbformat_minor": 4
}
