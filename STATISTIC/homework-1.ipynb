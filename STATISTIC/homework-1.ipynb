{
 "cells": [
  {
   "cell_type": "markdown",
   "metadata": {},
   "source": [
    "# Домашняя работа №1"
   ]
  },
  {
   "cell_type": "code",
   "execution_count": 112,
   "metadata": {},
   "outputs": [],
   "source": [
    "import numpy as np\n",
    "import pylab as pl\n",
    "import pandas as pd\n",
    "import warnings\n",
    "import math\n",
    "from numpy import linalg as LA\n",
    "\n",
    "from matplotlib import pyplot as plt\n",
    "from scipy import linalg\n",
    "\n",
    "\n",
    "from mpl_toolkits.mplot3d import Axes3D\n",
    "import matplotlib as mpl\n",
    "\n",
    "warnings.filterwarnings(\"ignore\")"
   ]
  },
  {
   "cell_type": "markdown",
   "metadata": {},
   "source": [
    "## Задание 1"
   ]
  },
  {
   "cell_type": "markdown",
   "metadata": {},
   "source": [
    "Изобразите с помощью matplotlib. Изобразите точку x + 2y + 3z. Найдите угол между векторами x, y и x, z. "
   ]
  },
  {
   "cell_type": "code",
   "execution_count": 2,
   "metadata": {},
   "outputs": [],
   "source": [
    "x = np.array([1,1])\n",
    "y = np.array([2, 0])\n",
    "z = np.array([0,2])"
   ]
  },
  {
   "cell_type": "code",
   "execution_count": 31,
   "metadata": {},
   "outputs": [
    {
     "data": {
      "text/plain": [
       "[<matplotlib.lines.Line2D at 0x234a2005608>]"
      ]
     },
     "execution_count": 31,
     "metadata": {},
     "output_type": "execute_result"
    },
    {
     "data": {
      "image/png": "[encoded data removed]",
      "text/plain": [
       "<Figure size 432x288 with 1 Axes>"
      ]
     },
     "metadata": {
      "needs_background": "light"
     },
     "output_type": "display_data"
    }
   ],
   "source": [
    "c = x+(2*y)+(3*z)\n",
    "c\n",
    "plt.plot(c)"
   ]
  },
  {
   "cell_type": "code",
   "execution_count": 25,
   "metadata": {},
   "outputs": [
    {
     "data": {
      "text/plain": [
       "<matplotlib.collections.PathCollection at 0x234a0b33ac8>"
      ]
     },
     "execution_count": 25,
     "metadata": {},
     "output_type": "execute_result"
    },
    {
     "data": {
      "image/png": "[encoded data removed]",
      "text/plain": [
       "<Figure size 360x360 with 1 Axes>"
      ]
     },
     "metadata": {
      "needs_background": "light"
     },
     "output_type": "display_data"
    }
   ],
   "source": [
    "fig = plt.figure(figsize=(5, 5))\n",
    "plt.scatter(c[0], c[1])"
   ]
  },
  {
   "cell_type": "code",
   "execution_count": null,
   "metadata": {},
   "outputs": [],
   "source": [
    "x = np.array([1,1])\n",
    "y = np.array([2, 0])\n",
    "z = np.array([0,2])"
   ]
  },
  {
   "cell_type": "code",
   "execution_count": 72,
   "metadata": {},
   "outputs": [
    {
     "name": "stdout",
     "output_type": "stream",
     "text": [
      "Угол между векторами x и y равен: 45 градусов\n"
     ]
    }
   ],
   "source": [
    "np.dot(x,y)\n",
    "amag = np.linalg.norm(x)\n",
    "amag2 = np.linalg.norm(y)\n",
    "# print(amag, amag2)\n",
    "\n",
    "cosangle = np.dot(x,y) / (np.linalg.norm(x) *np.linalg.norm(y))\n",
    "# cosangle #косинус угла\n",
    "angle = np.arccos(cosangle) \n",
    "a  = angle * 180/np.pi #сам угол\n",
    "print(f'Угол между векторами x и y равен: {a:.0f} градусов')"
   ]
  },
  {
   "cell_type": "code",
   "execution_count": 77,
   "metadata": {},
   "outputs": [
    {
     "name": "stdout",
     "output_type": "stream",
     "text": [
      "Угол между векторами y и z равен: 90 градусов\n"
     ]
    }
   ],
   "source": [
    "np.dot(y,z)\n",
    "amag3 = np.linalg.norm(y)\n",
    "amag4 = np.linalg.norm(z) \n",
    "# print(amag, amag2)\n",
    "\n",
    "cosangle = np.dot(y,z) / (np.linalg.norm(y) *np.linalg.norm(z))\n",
    "# cosangle #косинус угла\n",
    "angle = np.arccos(cosangle) \n",
    "a  = angle * 180/np.pi #сам угол\n",
    "print(f'Угол между векторами y и z равен: {a:.0f} градусов')"
   ]
  },
  {
   "cell_type": "code",
   "execution_count": 75,
   "metadata": {},
   "outputs": [
    {
     "data": {
      "text/plain": [
       "(-1, 4)"
      ]
     },
     "execution_count": 75,
     "metadata": {},
     "output_type": "execute_result"
    },
    {
     "data": {
      "image/png": "[encoded data removed]",
      "text/plain": [
       "<Figure size 432x288 with 1 Axes>"
      ]
     },
     "metadata": {
      "needs_background": "light"
     },
     "output_type": "display_data"
    }
   ],
   "source": [
    "plt.plot([0,x[0]],[0,x[1]],'-o')\n",
    "plt.plot([0,y[0]],[0,y[1]],'-x')\n",
    "plt.gca()\n",
    "plt.legend(['Вектор x','Вектор y'])\n",
    "plt.ylim(-1, 4)\n",
    "plt.xlim(-1, 4)"
   ]
  },
  {
   "cell_type": "code",
   "execution_count": 76,
   "metadata": {},
   "outputs": [
    {
     "data": {
      "text/plain": [
       "(-1, 4)"
      ]
     },
     "execution_count": 76,
     "metadata": {},
     "output_type": "execute_result"
    },
    {
     "data": {
      "image/png": "[encoded data removed]",
      "text/plain": [
       "<Figure size 432x288 with 1 Axes>"
      ]
     },
     "metadata": {
      "needs_background": "light"
     },
     "output_type": "display_data"
    }
   ],
   "source": [
    "plt.plot([0,y[0]],[0,y[1]],'-x')\n",
    "plt.plot([0,z[0]],[0,z[1]],'-o')\n",
    "plt.gca()\n",
    "plt.legend(['Вектор x','Вектор y'])\n",
    "plt.ylim(-1, 4)\n",
    "plt.xlim(-1, 4)"
   ]
  },
  {
   "cell_type": "code",
   "execution_count": null,
   "metadata": {},
   "outputs": [],
   "source": []
  },
  {
   "cell_type": "markdown",
   "metadata": {},
   "source": [
    "## Задание 2"
   ]
  },
  {
   "cell_type": "markdown",
   "metadata": {},
   "source": [
    "Загрузите модель человека. Найдите расстояние от правой кисти до позвоночника"
   ]
  },
  {
   "cell_type": "code",
   "execution_count": 83,
   "metadata": {},
   "outputs": [
    {
     "data": {
      "text/html": [
       "<div>\n",
       "<style scoped>\n",
       "    .dataframe tbody tr th:only-of-type {\n",
       "        vertical-align: middle;\n",
       "    }\n",
       "\n",
       "    .dataframe tbody tr th {\n",
       "        vertical-align: top;\n",
       "    }\n",
       "\n",
       "    .dataframe thead th {\n",
       "        text-align: right;\n",
       "    }\n",
       "</style>\n",
       "<table border=\"1\" class=\"dataframe\">\n",
       "  <thead>\n",
       "    <tr style=\"text-align: right;\">\n",
       "      <th></th>\n",
       "      <th>type</th>\n",
       "      <th>x</th>\n",
       "      <th>y</th>\n",
       "      <th>z</th>\n",
       "    </tr>\n",
       "  </thead>\n",
       "  <tbody>\n",
       "    <tr>\n",
       "      <th>21</th>\n",
       "      <td>v</td>\n",
       "      <td>-0.392414</td>\n",
       "      <td>0.045288</td>\n",
       "      <td>0.025403</td>\n",
       "    </tr>\n",
       "    <tr>\n",
       "      <th>20</th>\n",
       "      <td>v</td>\n",
       "      <td>-0.283883</td>\n",
       "      <td>0.219551</td>\n",
       "      <td>-0.024912</td>\n",
       "    </tr>\n",
       "    <tr>\n",
       "      <th>19</th>\n",
       "      <td>v</td>\n",
       "      <td>-0.163721</td>\n",
       "      <td>0.476657</td>\n",
       "      <td>-0.030335</td>\n",
       "    </tr>\n",
       "    <tr>\n",
       "      <th>18</th>\n",
       "      <td>v</td>\n",
       "      <td>-0.163721</td>\n",
       "      <td>0.476657</td>\n",
       "      <td>-0.030335</td>\n",
       "    </tr>\n",
       "    <tr>\n",
       "      <th>17</th>\n",
       "      <td>v</td>\n",
       "      <td>-0.163721</td>\n",
       "      <td>0.476657</td>\n",
       "      <td>-0.030335</td>\n",
       "    </tr>\n",
       "    <tr>\n",
       "      <th>7</th>\n",
       "      <td>v</td>\n",
       "      <td>-0.105431</td>\n",
       "      <td>-0.412672</td>\n",
       "      <td>-0.015059</td>\n",
       "    </tr>\n",
       "    <tr>\n",
       "      <th>8</th>\n",
       "      <td>v</td>\n",
       "      <td>-0.103304</td>\n",
       "      <td>-0.748699</td>\n",
       "      <td>-0.045038</td>\n",
       "    </tr>\n",
       "    <tr>\n",
       "      <th>22</th>\n",
       "      <td>v</td>\n",
       "      <td>-0.093564</td>\n",
       "      <td>-0.046249</td>\n",
       "      <td>-0.012199</td>\n",
       "    </tr>\n",
       "    <tr>\n",
       "      <th>5</th>\n",
       "      <td>v</td>\n",
       "      <td>-0.093564</td>\n",
       "      <td>-0.046249</td>\n",
       "      <td>-0.012199</td>\n",
       "    </tr>\n",
       "    <tr>\n",
       "      <th>6</th>\n",
       "      <td>v</td>\n",
       "      <td>-0.093564</td>\n",
       "      <td>-0.046249</td>\n",
       "      <td>-0.012199</td>\n",
       "    </tr>\n",
       "    <tr>\n",
       "      <th>11</th>\n",
       "      <td>v</td>\n",
       "      <td>-0.007937</td>\n",
       "      <td>0.627914</td>\n",
       "      <td>-0.003787</td>\n",
       "    </tr>\n",
       "    <tr>\n",
       "      <th>24</th>\n",
       "      <td>v</td>\n",
       "      <td>-0.002068</td>\n",
       "      <td>0.312048</td>\n",
       "      <td>0.021531</td>\n",
       "    </tr>\n",
       "    <tr>\n",
       "      <th>9</th>\n",
       "      <td>v</td>\n",
       "      <td>-0.002068</td>\n",
       "      <td>0.312048</td>\n",
       "      <td>0.021531</td>\n",
       "    </tr>\n",
       "    <tr>\n",
       "      <th>10</th>\n",
       "      <td>v</td>\n",
       "      <td>-0.002068</td>\n",
       "      <td>0.312048</td>\n",
       "      <td>0.021531</td>\n",
       "    </tr>\n",
       "    <tr>\n",
       "      <th>0</th>\n",
       "      <td>v</td>\n",
       "      <td>0.000889</td>\n",
       "      <td>0.119490</td>\n",
       "      <td>0.010071</td>\n",
       "    </tr>\n",
       "    <tr>\n",
       "      <th>3</th>\n",
       "      <td>v</td>\n",
       "      <td>0.093672</td>\n",
       "      <td>-0.398935</td>\n",
       "      <td>-0.008132</td>\n",
       "    </tr>\n",
       "    <tr>\n",
       "      <th>4</th>\n",
       "      <td>v</td>\n",
       "      <td>0.094885</td>\n",
       "      <td>-0.758728</td>\n",
       "      <td>-0.036067</td>\n",
       "    </tr>\n",
       "    <tr>\n",
       "      <th>23</th>\n",
       "      <td>v</td>\n",
       "      <td>0.098418</td>\n",
       "      <td>-0.053715</td>\n",
       "      <td>-0.021635</td>\n",
       "    </tr>\n",
       "    <tr>\n",
       "      <th>2</th>\n",
       "      <td>v</td>\n",
       "      <td>0.098418</td>\n",
       "      <td>-0.053715</td>\n",
       "      <td>-0.021635</td>\n",
       "    </tr>\n",
       "    <tr>\n",
       "      <th>1</th>\n",
       "      <td>v</td>\n",
       "      <td>0.098418</td>\n",
       "      <td>-0.053715</td>\n",
       "      <td>-0.021635</td>\n",
       "    </tr>\n",
       "    <tr>\n",
       "      <th>13</th>\n",
       "      <td>v</td>\n",
       "      <td>0.167869</td>\n",
       "      <td>0.466577</td>\n",
       "      <td>-0.034460</td>\n",
       "    </tr>\n",
       "    <tr>\n",
       "      <th>14</th>\n",
       "      <td>v</td>\n",
       "      <td>0.167869</td>\n",
       "      <td>0.466577</td>\n",
       "      <td>-0.034460</td>\n",
       "    </tr>\n",
       "    <tr>\n",
       "      <th>12</th>\n",
       "      <td>v</td>\n",
       "      <td>0.167869</td>\n",
       "      <td>0.466577</td>\n",
       "      <td>-0.034460</td>\n",
       "    </tr>\n",
       "    <tr>\n",
       "      <th>15</th>\n",
       "      <td>v</td>\n",
       "      <td>0.279588</td>\n",
       "      <td>0.248421</td>\n",
       "      <td>-0.008911</td>\n",
       "    </tr>\n",
       "    <tr>\n",
       "      <th>16</th>\n",
       "      <td>v</td>\n",
       "      <td>0.391673</td>\n",
       "      <td>0.044122</td>\n",
       "      <td>0.046747</td>\n",
       "    </tr>\n",
       "  </tbody>\n",
       "</table>\n",
       "</div>"
      ],
      "text/plain": [
       "   type         x         y         z\n",
       "21    v -0.392414  0.045288  0.025403\n",
       "20    v -0.283883  0.219551 -0.024912\n",
       "19    v -0.163721  0.476657 -0.030335\n",
       "18    v -0.163721  0.476657 -0.030335\n",
       "17    v -0.163721  0.476657 -0.030335\n",
       "7     v -0.105431 -0.412672 -0.015059\n",
       "8     v -0.103304 -0.748699 -0.045038\n",
       "22    v -0.093564 -0.046249 -0.012199\n",
       "5     v -0.093564 -0.046249 -0.012199\n",
       "6     v -0.093564 -0.046249 -0.012199\n",
       "11    v -0.007937  0.627914 -0.003787\n",
       "24    v -0.002068  0.312048  0.021531\n",
       "9     v -0.002068  0.312048  0.021531\n",
       "10    v -0.002068  0.312048  0.021531\n",
       "0     v  0.000889  0.119490  0.010071\n",
       "3     v  0.093672 -0.398935 -0.008132\n",
       "4     v  0.094885 -0.758728 -0.036067\n",
       "23    v  0.098418 -0.053715 -0.021635\n",
       "2     v  0.098418 -0.053715 -0.021635\n",
       "1     v  0.098418 -0.053715 -0.021635\n",
       "13    v  0.167869  0.466577 -0.034460\n",
       "14    v  0.167869  0.466577 -0.034460\n",
       "12    v  0.167869  0.466577 -0.034460\n",
       "15    v  0.279588  0.248421 -0.008911\n",
       "16    v  0.391673  0.044122  0.046747"
      ]
     },
     "execution_count": 83,
     "metadata": {},
     "output_type": "execute_result"
    }
   ],
   "source": [
    "ns = ['type', 'x', 'y', 'z']\n",
    "# read points for joints\n",
    "dfJointsVertexes = pd.read_csv('joints.txt', sep=' ', names = ns)\n",
    "axis_sort = 'x' \n",
    "df = dfJointsVertexes.sort_values(by=[axis_sort])\n",
    "df"
   ]
  },
  {
   "cell_type": "code",
   "execution_count": 84,
   "metadata": {},
   "outputs": [
    {
     "data": {
      "text/plain": [
       "<matplotlib.collections.PathCollection at 0x234a2314e08>"
      ]
     },
     "execution_count": 84,
     "metadata": {},
     "output_type": "execute_result"
    },
    {
     "data": {
      "image/png": "[encoded data removed]",
      "text/plain": [
       "<Figure size 432x288 with 1 Axes>"
      ]
     },
     "metadata": {
      "needs_background": "light"
     },
     "output_type": "display_data"
    }
   ],
   "source": [
    "plt.scatter(df.x, df.y)"
   ]
  },
  {
   "cell_type": "code",
   "execution_count": 95,
   "metadata": {},
   "outputs": [
    {
     "data": {
      "text/plain": [
       "<matplotlib.legend.Legend at 0x234a25fbb88>"
      ]
     },
     "execution_count": 95,
     "metadata": {},
     "output_type": "execute_result"
    },
    {
     "data": {
      "image/png": "[encoded data removed]",
      "text/plain": [
       "<Figure size 432x288 with 1 Axes>"
      ]
     },
     "metadata": {
      "needs_background": "light"
     },
     "output_type": "display_data"
    }
   ],
   "source": [
    "plt.scatter(df.x, df.y)\n",
    "\n",
    "plt.scatter(df.x[9], df.y[9])\n",
    "plt.scatter(df.x[11], df.y[11])\n",
    "plt.scatter(df.x[16], df.y[16])\n",
    "plt.legend(['все параметрические точки', 'точка позвоночника1', 'точка позвоночника2', 'точка кисти'])"
   ]
  },
  {
   "cell_type": "code",
   "execution_count": 110,
   "metadata": {},
   "outputs": [
    {
     "data": {
      "text/plain": [
       "<matplotlib.legend.Legend at 0x234a46f58c8>"
      ]
     },
     "execution_count": 110,
     "metadata": {},
     "output_type": "execute_result"
    },
    {
     "data": {
      "image/png": "[encoded data removed]",
      "text/plain": [
       "<Figure size 432x288 with 1 Axes>"
      ]
     },
     "metadata": {
      "needs_background": "light"
     },
     "output_type": "display_data"
    }
   ],
   "source": [
    "v = np.array([df.x[9] - df.x[11], df.y[9] - df.y[11]]) #вектор позвоночника\n",
    "v\n",
    "w = np.array([df.x[16],df.y[16]]) #вектор кисти\n",
    "w\n",
    "# строим проекцию данной точки w на вектор v: cv\n",
    "cv = np.array(df.x[9], df.y[9]) + (np.dot(w,v))/np.dot(v,np.transpose(v))*v\n",
    "cv\n",
    "# линия между v и cv\n",
    "plt.plot([w[0],cv[0]],[w[1],cv[1]],'r--',linewidth=1.5)\n",
    "plt.scatter(df.x, df.y)\n",
    "plt.scatter(cv[0], cv[1])\n",
    "plt.scatter(w[0], w[1])\n",
    "plt.legend(['проекция', '', 'cv - точка проекции', 'w - точка кисти'])"
   ]
  },
  {
   "cell_type": "markdown",
   "metadata": {},
   "source": [
    "# Задание 3"
   ]
  },
  {
   "cell_type": "markdown",
   "metadata": {},
   "source": [
    "Найдите собственные значения и собственные вектора матриц (необходимо решение на numpy). Для матрицы 3x3 можно посмотреть на корни характеристического многочлена, посчитанные в numpy."
   ]
  },
  {
   "cell_type": "code",
   "execution_count": 116,
   "metadata": {},
   "outputs": [],
   "source": [
    "m1 = np.array([[2, 2],\n",
    "               [1, 3]])\n",
    "\n",
    "m2 = np.array([[4, 1, -1],\n",
    "               [1, 4, -1],\n",
    "               [-1, -1, 4]])"
   ]
  },
  {
   "cell_type": "code",
   "execution_count": 119,
   "metadata": {},
   "outputs": [
    {
     "name": "stdout",
     "output_type": "stream",
     "text": [
      "Исходная матрица: \n",
      " [[2 2]\n",
      " [1 3]]\n",
      "Собственные вектора: \n",
      " [[-0.89442719 -0.70710678]\n",
      " [ 0.4472136  -0.70710678]]\n",
      "Собственные значения:  [1. 4.]\n"
     ]
    }
   ],
   "source": [
    "e_vals, e_vecs = LA.eig(m1)\n",
    "print('Исходная матрица: \\n', m1)\n",
    "\n",
    "print('Собственные вектора: \\n', e_vecs)\n",
    "print('Собственные значения: ', e_vals)"
   ]
  },
  {
   "cell_type": "code",
   "execution_count": 120,
   "metadata": {},
   "outputs": [
    {
     "name": "stdout",
     "output_type": "stream",
     "text": [
      "Исходная матрица: \n",
      " [[ 4  1 -1]\n",
      " [ 1  4 -1]\n",
      " [-1 -1  4]]\n",
      "Собственные вектора: \n",
      " [[-0.81649658  0.57735027 -0.27658128]\n",
      " [ 0.40824829  0.57735027  0.8035929 ]\n",
      " [-0.40824829 -0.57735027  0.52701162]]\n",
      "Собственные значения:  [3. 6. 3.]\n"
     ]
    }
   ],
   "source": [
    "e_vals, e_vecs = LA.eig(m2)\n",
    "print('Исходная матрица: \\n', m2)\n",
    "\n",
    "print('Собственные вектора: \\n', e_vecs)\n",
    "print('Собственные значения: ', e_vals)"
   ]
  },
  {
   "cell_type": "markdown",
   "metadata": {},
   "source": [
    "### Буду рада подробной обратной связи\n",
    "к заданию 1 про углы, можно привети пример как нарисовать дугу между векторами, и можно ли еще как то посчитать по другому кгол между векторами ?\n"
   ]
  }
 ],
 "metadata": {
  "kernelspec": {
   "display_name": "Python 3",
   "language": "python",
   "name": "python3"
  },
  "language_info": {
   "codemirror_mode": {
    "name": "ipython",
    "version": 3
   },
   "file_extension": ".py",
   "mimetype": "text/x-python",
   "name": "python",
   "nbconvert_exporter": "python",
   "pygments_lexer": "ipython3",
   "version": "3.7.6"
  }
 },
 "nbformat": 4,
 "nbformat_minor": 2
}
