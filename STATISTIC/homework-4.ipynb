{
 "cells": [
  {
   "cell_type": "markdown",
   "metadata": {
    "colab_type": "text",
    "id": "view-in-github"
   },
   "source": [
    "<a href=\"https://colab.research.google.com/github/yustinaivanova/netology_statistics/blob/master/dz_2.ipynb\" target=\"_parent\"><img src=\"https://colab.research.google.com/assets/colab-badge.svg\" alt=\"Open In Colab\"/></a>"
   ]
  },
  {
   "cell_type": "markdown",
   "metadata": {},
   "source": [
    "# Домашняя работа №4"
   ]
  },
  {
   "cell_type": "markdown",
   "metadata": {
    "colab_type": "text",
    "id": "9wqpiQR2AbtX"
   },
   "source": [
    "# Виды распределений"
   ]
  },
  {
   "cell_type": "markdown",
   "metadata": {
    "colab_type": "text",
    "id": "V3N8qycM-xP9"
   },
   "source": [
    "Загрузить таблицу и построить график распределений. Найти нормальное распределение."
   ]
  },
  {
   "cell_type": "code",
   "execution_count": 2,
   "metadata": {
    "colab": {},
    "colab_type": "code",
    "id": "Zo_j9HCKCPgi"
   },
   "outputs": [],
   "source": [
    "import numpy as np\n",
    "from scipy.stats import t\n",
    "from scipy.stats import norm\n",
    "import matplotlib.pyplot as plt\n",
    "from scipy import stats\n",
    "import pandas as pd\n",
    "import io\n",
    "import requests\n",
    "import seaborn as sns\n",
    "\n",
    "%matplotlib inline"
   ]
  },
  {
   "cell_type": "markdown",
   "metadata": {
    "colab_type": "text",
    "id": "LrhPyaIACZsb"
   },
   "source": [
    "Таблица цен на дома в Бостоне"
   ]
  },
  {
   "cell_type": "markdown",
   "metadata": {
    "colab_type": "text",
    "id": "XyNNmtvIDDy3"
   },
   "source": [
    "Основные значения:\n",
    "\n",
    "* CRIM: This is the per capita crime rate by town\n",
    "* ZN: This is the proportion of residential land zoned for lots larger than 25,000 sq.ft.\n",
    "* INDUS: This is the proportion of non-retail business acres per town.\n",
    "* CHAS: This is the Charles River dummy variable (this is equal to 1 if tract bounds river; 0 otherwise)\n",
    "* NOX: This is the nitric oxides concentration (parts per 10 million)\n",
    "* RM: This is the average number of rooms per dwelling\n",
    "* AGE: This is the proportion of owner-occupied units built prior to 1940\n",
    "* DIS: This is the weighted distances to five Boston employment centers\n",
    "* RAD: This is the index of accessibility to radial highways\n",
    "* TAX: This is the full-value property-tax rate per 10,000 dollars\n",
    "* PTRATIO: This is the pupil-teacher ratio by town\n",
    "* B: This is calculated as 1000(Bk — 0.63)², where Bk is the proportion of people of African American descent by town\n",
    "* LSTAT: This is the percentage lower status of the population\n",
    "* MEDV: This is the median value of owner-occupied homes in 1000 dollars"
   ]
  },
  {
   "cell_type": "markdown",
   "metadata": {},
   "source": [
    "* CRIM: это уровень преступности на душу населения по городам\n",
    "* ZN: это доля жилой земли, зонированной для участков более 25 000 кв. Футов.\n",
    "* ИНДУС: Это доля не торговых площадей в каждом городе.\n",
    "* CHAS: это фиктивная переменная реки Чарльз (она равна 1, если тракт ограничивает реку; в противном случае 0)\n",
    "* NOX: это концентрация оксидов азота (частей на 10 миллионов)\n",
    "* RM: это среднее количество комнат на одно жилище\n",
    "* ВОЗРАСТ: Это доля занятых владельцем единиц, построенных до 1940 г.\n",
    "* DIS: это взвешенные расстояния до пяти бостонских центров занятости\n",
    "* RAD: это индекс доступности радиальных магистралей\n",
    "* НАЛОГ: это полная стоимость налога на имущество на 10000 долларов\n",
    "* PTRATIO: Это соотношение учеников и учителей по городам.\n",
    "* B: Это рассчитывается как 1000 (Bk - 0,63) ², где Bk - это доля людей афроамериканского происхождения по городам.\n",
    "* LSTAT: это процент населения c низким статусом\n",
    "* MEDV: это средняя стоимость домов, занимаемых владельцами, в 1000 долларов."
   ]
  },
  {
   "cell_type": "code",
   "execution_count": 3,
   "metadata": {
    "colab": {
     "base_uri": "https://localhost:8080/",
     "height": 204
    },
    "colab_type": "code",
    "id": "Ona1gs72CZOq",
    "outputId": "455f9f96-3f49-4eb7-c928-fc732141d834"
   },
   "outputs": [
    {
     "data": {
      "text/html": [
       "<div>\n",
       "<style scoped>\n",
       "    .dataframe tbody tr th:only-of-type {\n",
       "        vertical-align: middle;\n",
       "    }\n",
       "\n",
       "    .dataframe tbody tr th {\n",
       "        vertical-align: top;\n",
       "    }\n",
       "\n",
       "    .dataframe thead th {\n",
       "        text-align: right;\n",
       "    }\n",
       "</style>\n",
       "<table border=\"1\" class=\"dataframe\">\n",
       "  <thead>\n",
       "    <tr style=\"text-align: right;\">\n",
       "      <th></th>\n",
       "      <th>CRIM</th>\n",
       "      <th>ZN</th>\n",
       "      <th>INDUS</th>\n",
       "      <th>CHAS</th>\n",
       "      <th>NOX</th>\n",
       "      <th>RM</th>\n",
       "      <th>AGE</th>\n",
       "      <th>DIS</th>\n",
       "      <th>RAD</th>\n",
       "      <th>TAX</th>\n",
       "      <th>PTRATIO</th>\n",
       "      <th>B</th>\n",
       "      <th>LSTAT</th>\n",
       "      <th>MEDV</th>\n",
       "    </tr>\n",
       "  </thead>\n",
       "  <tbody>\n",
       "    <tr>\n",
       "      <th>0</th>\n",
       "      <td>0.00632</td>\n",
       "      <td>18.0</td>\n",
       "      <td>2.31</td>\n",
       "      <td>0</td>\n",
       "      <td>0.538</td>\n",
       "      <td>6.575</td>\n",
       "      <td>65.2</td>\n",
       "      <td>4.0900</td>\n",
       "      <td>1</td>\n",
       "      <td>296.0</td>\n",
       "      <td>15.3</td>\n",
       "      <td>396.90</td>\n",
       "      <td>4.98</td>\n",
       "      <td>24.0</td>\n",
       "    </tr>\n",
       "    <tr>\n",
       "      <th>1</th>\n",
       "      <td>0.02731</td>\n",
       "      <td>0.0</td>\n",
       "      <td>7.07</td>\n",
       "      <td>0</td>\n",
       "      <td>0.469</td>\n",
       "      <td>6.421</td>\n",
       "      <td>78.9</td>\n",
       "      <td>4.9671</td>\n",
       "      <td>2</td>\n",
       "      <td>242.0</td>\n",
       "      <td>17.8</td>\n",
       "      <td>396.90</td>\n",
       "      <td>9.14</td>\n",
       "      <td>21.6</td>\n",
       "    </tr>\n",
       "    <tr>\n",
       "      <th>2</th>\n",
       "      <td>0.02729</td>\n",
       "      <td>0.0</td>\n",
       "      <td>7.07</td>\n",
       "      <td>0</td>\n",
       "      <td>0.469</td>\n",
       "      <td>7.185</td>\n",
       "      <td>61.1</td>\n",
       "      <td>4.9671</td>\n",
       "      <td>2</td>\n",
       "      <td>242.0</td>\n",
       "      <td>17.8</td>\n",
       "      <td>392.83</td>\n",
       "      <td>4.03</td>\n",
       "      <td>34.7</td>\n",
       "    </tr>\n",
       "    <tr>\n",
       "      <th>3</th>\n",
       "      <td>0.03237</td>\n",
       "      <td>0.0</td>\n",
       "      <td>2.18</td>\n",
       "      <td>0</td>\n",
       "      <td>0.458</td>\n",
       "      <td>6.998</td>\n",
       "      <td>45.8</td>\n",
       "      <td>6.0622</td>\n",
       "      <td>3</td>\n",
       "      <td>222.0</td>\n",
       "      <td>18.7</td>\n",
       "      <td>394.63</td>\n",
       "      <td>2.94</td>\n",
       "      <td>33.4</td>\n",
       "    </tr>\n",
       "    <tr>\n",
       "      <th>4</th>\n",
       "      <td>0.06905</td>\n",
       "      <td>0.0</td>\n",
       "      <td>2.18</td>\n",
       "      <td>0</td>\n",
       "      <td>0.458</td>\n",
       "      <td>7.147</td>\n",
       "      <td>54.2</td>\n",
       "      <td>6.0622</td>\n",
       "      <td>3</td>\n",
       "      <td>222.0</td>\n",
       "      <td>18.7</td>\n",
       "      <td>396.90</td>\n",
       "      <td>5.33</td>\n",
       "      <td>36.2</td>\n",
       "    </tr>\n",
       "  </tbody>\n",
       "</table>\n",
       "</div>"
      ],
      "text/plain": [
       "      CRIM    ZN  INDUS  CHAS    NOX     RM   AGE     DIS  RAD    TAX  \\\n",
       "0  0.00632  18.0   2.31     0  0.538  6.575  65.2  4.0900    1  296.0   \n",
       "1  0.02731   0.0   7.07     0  0.469  6.421  78.9  4.9671    2  242.0   \n",
       "2  0.02729   0.0   7.07     0  0.469  7.185  61.1  4.9671    2  242.0   \n",
       "3  0.03237   0.0   2.18     0  0.458  6.998  45.8  6.0622    3  222.0   \n",
       "4  0.06905   0.0   2.18     0  0.458  7.147  54.2  6.0622    3  222.0   \n",
       "\n",
       "   PTRATIO       B  LSTAT  MEDV  \n",
       "0     15.3  396.90   4.98  24.0  \n",
       "1     17.8  396.90   9.14  21.6  \n",
       "2     17.8  392.83   4.03  34.7  \n",
       "3     18.7  394.63   2.94  33.4  \n",
       "4     18.7  396.90   5.33  36.2  "
      ]
     },
     "execution_count": 3,
     "metadata": {},
     "output_type": "execute_result"
    }
   ],
   "source": [
    "import ssl\n",
    "# следующая строчка подключает сертификат для защищенного соединения\n",
    "ssl._create_default_https_context = ssl._create_unverified_context\n",
    "url='http://yustiks.ru/dataset/housing.csv'\n",
    "names = ['CRIM', 'ZN', 'INDUS', 'CHAS', 'NOX', 'RM', 'AGE', 'DIS', 'RAD', 'TAX', 'PTRATIO', 'B', 'LSTAT', 'MEDV']\n",
    "data=pd.read_csv(url,  delim_whitespace=True, names=names)\n",
    "data.head()"
   ]
  },
  {
   "cell_type": "code",
   "execution_count": 9,
   "metadata": {},
   "outputs": [
    {
     "data": {
      "text/plain": [
       "88.9762"
      ]
     },
     "execution_count": 9,
     "metadata": {},
     "output_type": "execute_result"
    }
   ],
   "source": []
  },
  {
   "cell_type": "code",
   "execution_count": null,
   "metadata": {},
   "outputs": [],
   "source": []
  },
  {
   "cell_type": "markdown",
   "metadata": {
    "colab_type": "text",
    "id": "KwpYBJZiE1EO"
   },
   "source": [
    "Нарисовать частотные графики для всех значений. Можете ли вы найти следующие распределения в данных графиках?\n",
    "\n",
    "\n",
    "1.   Нормальное\n",
    "2.   Равномерное\n",
    "3.   Биноминальное\n",
    "4.   Бернулли\n",
    "5.   Геометрическое\n",
    "6.   Логнормальное\n",
    "\n"
   ]
  },
  {
   "cell_type": "code",
   "execution_count": 66,
   "metadata": {},
   "outputs": [
    {
     "data": {
      "image/png": "[encoded data removed]",
      "text/plain": [
       "<Figure size 432x288 with 1 Axes>"
      ]
     },
     "metadata": {
      "needs_background": "light"
     },
     "output_type": "display_data"
    }
   ],
   "source": [
    "plt.hist(data['CRIM'], 20)\n",
    "plt.xlabel('CRIM')\n",
    "plt.ylabel('frequency')\n",
    "plt.title('Экспонициальное распределение')\n",
    "plt.grid(True)\n",
    "plt.show()"
   ]
  },
  {
   "cell_type": "code",
   "execution_count": 69,
   "metadata": {},
   "outputs": [
    {
     "data": {
      "image/png": "[encoded data removed]",
      "text/plain": [
       "<Figure size 432x288 with 1 Axes>"
      ]
     },
     "metadata": {
      "needs_background": "light"
     },
     "output_type": "display_data"
    }
   ],
   "source": [
    "plt.hist(data['ZN'], 5)\n",
    "plt.xlabel('ZN')\n",
    "plt.ylabel('frequency')\n",
    "plt.title('Экспонициальное распределение')\n",
    "plt.grid(True)\n",
    "plt.show()"
   ]
  },
  {
   "cell_type": "code",
   "execution_count": 57,
   "metadata": {},
   "outputs": [
    {
     "data": {
      "image/png": "[encoded data removed]",
      "text/plain": [
       "<Figure size 432x288 with 1 Axes>"
      ]
     },
     "metadata": {
      "needs_background": "light"
     },
     "output_type": "display_data"
    }
   ],
   "source": [
    "plt.hist(data['INDUS'], 20)\n",
    "plt.xlabel('INDUS')\n",
    "plt.ylabel('frequency')\n",
    "plt.grid(True)\n",
    "plt.show()"
   ]
  },
  {
   "cell_type": "code",
   "execution_count": 34,
   "metadata": {},
   "outputs": [
    {
     "data": {
      "image/png": "[encoded data removed]",
      "text/plain": [
       "<Figure size 432x288 with 1 Axes>"
      ]
     },
     "metadata": {
      "needs_background": "light"
     },
     "output_type": "display_data"
    }
   ],
   "source": [
    "plt.hist(data['CHAS'], 10)\n",
    "plt.xlabel('CHAS')\n",
    "plt.ylabel('frequency')\n",
    "plt.title('распределение Бернулли')\n",
    "plt.grid(True)\n",
    "plt.show()"
   ]
  },
  {
   "cell_type": "code",
   "execution_count": 75,
   "metadata": {},
   "outputs": [
    {
     "data": {
      "image/png": "[encoded data removed]",
      "text/plain": [
       "<Figure size 432x288 with 1 Axes>"
      ]
     },
     "metadata": {
      "needs_background": "light"
     },
     "output_type": "display_data"
    }
   ],
   "source": [
    "plt.hist(data['NOX'], 12)\n",
    "plt.xlabel('NOX')\n",
    "plt.ylabel('frequency')\n",
    "plt.title('Логнормальное распределение')\n",
    "plt.grid(True)\n",
    "plt.show()"
   ]
  },
  {
   "cell_type": "code",
   "execution_count": 61,
   "metadata": {},
   "outputs": [
    {
     "data": {
      "image/png": "[encoded data removed]",
      "text/plain": [
       "<Figure size 432x288 with 1 Axes>"
      ]
     },
     "metadata": {
      "needs_background": "light"
     },
     "output_type": "display_data"
    }
   ],
   "source": [
    "plt.hist(data['RM'], 20)\n",
    "plt.xlabel('RM')\n",
    "plt.ylabel('frequency')\n",
    "plt.title('Нормальное распределение')\n",
    "plt.grid(True)\n",
    "plt.show()"
   ]
  },
  {
   "cell_type": "code",
   "execution_count": 24,
   "metadata": {},
   "outputs": [
    {
     "data": {
      "image/png": "[encoded data removed]",
      "text/plain": [
       "<Figure size 432x288 with 1 Axes>"
      ]
     },
     "metadata": {
      "needs_background": "light"
     },
     "output_type": "display_data"
    }
   ],
   "source": [
    "plt.hist(data['AGE'], 30)\n",
    "plt.xlabel('AGE')\n",
    "plt.ylabel('frequency')\n",
    "plt.grid(True)\n",
    "plt.show()"
   ]
  },
  {
   "cell_type": "code",
   "execution_count": 70,
   "metadata": {},
   "outputs": [
    {
     "data": {
      "image/png": "[encoded data removed]",
      "text/plain": [
       "<Figure size 432x288 with 1 Axes>"
      ]
     },
     "metadata": {
      "needs_background": "light"
     },
     "output_type": "display_data"
    }
   ],
   "source": [
    "plt.hist(data['DIS'], 20)\n",
    "plt.xlabel('DIS')\n",
    "plt.ylabel('frequency')\n",
    "plt.title('Геометрическое распределение')\n",
    "plt.grid(True)\n",
    "plt.show()"
   ]
  },
  {
   "cell_type": "code",
   "execution_count": 46,
   "metadata": {},
   "outputs": [
    {
     "data": {
      "image/png": "[encoded data removed]",
      "text/plain": [
       "<Figure size 432x288 with 1 Axes>"
      ]
     },
     "metadata": {
      "needs_background": "light"
     },
     "output_type": "display_data"
    }
   ],
   "source": [
    "plt.hist(data['RAD'], 20)\n",
    "plt.xlabel('RAD')\n",
    "plt.ylabel('frequency')\n",
    "plt.grid(True)\n",
    "plt.show()"
   ]
  },
  {
   "cell_type": "code",
   "execution_count": 27,
   "metadata": {},
   "outputs": [
    {
     "data": {
      "image/png": "[encoded data removed]",
      "text/plain": [
       "<Figure size 432x288 with 1 Axes>"
      ]
     },
     "metadata": {
      "needs_background": "light"
     },
     "output_type": "display_data"
    }
   ],
   "source": [
    "plt.hist(data['TAX'], 30)\n",
    "plt.xlabel('TAX')\n",
    "plt.ylabel('frequency')\n",
    "plt.grid(True)\n",
    "plt.show()"
   ]
  },
  {
   "cell_type": "code",
   "execution_count": 47,
   "metadata": {},
   "outputs": [
    {
     "data": {
      "image/png": "[encoded data removed]",
      "text/plain": [
       "<Figure size 432x288 with 1 Axes>"
      ]
     },
     "metadata": {
      "needs_background": "light"
     },
     "output_type": "display_data"
    }
   ],
   "source": [
    "plt.hist(data['PTRATIO'], 20)\n",
    "plt.xlabel('PTRATIO')\n",
    "plt.ylabel('frequency')\n",
    "plt.grid(True)\n",
    "plt.show()"
   ]
  },
  {
   "cell_type": "code",
   "execution_count": 40,
   "metadata": {},
   "outputs": [
    {
     "data": {
      "image/png": "[encoded data removed]",
      "text/plain": [
       "<Figure size 432x288 with 1 Axes>"
      ]
     },
     "metadata": {
      "needs_background": "light"
     },
     "output_type": "display_data"
    }
   ],
   "source": [
    "plt.hist(data['B'], 15)\n",
    "plt.xlabel('B')\n",
    "plt.ylabel('frequency')\n",
    "plt.grid(True)\n",
    "plt.show()"
   ]
  },
  {
   "cell_type": "code",
   "execution_count": 71,
   "metadata": {},
   "outputs": [
    {
     "data": {
      "image/png": "[encoded data removed]",
      "text/plain": [
       "<Figure size 432x288 with 1 Axes>"
      ]
     },
     "metadata": {
      "needs_background": "light"
     },
     "output_type": "display_data"
    }
   ],
   "source": [
    "plt.hist(data['LSTAT'], 20)\n",
    "plt.xlabel('LSTAT')\n",
    "plt.ylabel('frequency')\n",
    "plt.title('Логнормальное распределение')\n",
    "plt.grid(True)\n",
    "plt.show()"
   ]
  },
  {
   "cell_type": "code",
   "execution_count": 64,
   "metadata": {},
   "outputs": [
    {
     "data": {
      "image/png": "[encoded data removed]",
      "text/plain": [
       "<Figure size 432x288 with 1 Axes>"
      ]
     },
     "metadata": {
      "needs_background": "light"
     },
     "output_type": "display_data"
    }
   ],
   "source": [
    "plt.hist(data['MEDV'], 10)\n",
    "plt.xlabel('MEDV')\n",
    "plt.ylabel('frequency')\n",
    "plt.title('Нормальное распределение')\n",
    "plt.grid(True)\n",
    "plt.show()"
   ]
  },
  {
   "cell_type": "markdown",
   "metadata": {},
   "source": [
    "Построить матрицу корреляций для данной таблицы и выбрать максимально коррелирующий атрибут (несколько атрибутов) с ценой на дома (MEDV атрибут)."
   ]
  },
  {
   "cell_type": "code",
   "execution_count": 84,
   "metadata": {},
   "outputs": [
    {
     "data": {
      "text/html": [
       "<style  type=\"text/css\" >\n",
       "    #T_b9376b80_c8ff_11ea_9c46_3065ec9f88barow0_col0 {\n",
       "            background-color:  #b40426;\n",
       "            color:  #f1f1f1;\n",
       "        }    #T_b9376b80_c8ff_11ea_9c46_3065ec9f88barow0_col1 {\n",
       "            background-color:  #88abfd;\n",
       "            color:  #000000;\n",
       "        }    #T_b9376b80_c8ff_11ea_9c46_3065ec9f88barow0_col2 {\n",
       "            background-color:  #f7bca1;\n",
       "            color:  #000000;\n",
       "        }    #T_b9376b80_c8ff_11ea_9c46_3065ec9f88barow0_col3 {\n",
       "            background-color:  #4b64d5;\n",
       "            color:  #f1f1f1;\n",
       "        }    #T_b9376b80_c8ff_11ea_9c46_3065ec9f88barow0_col4 {\n",
       "            background-color:  #f7b599;\n",
       "            color:  #000000;\n",
       "        }    #T_b9376b80_c8ff_11ea_9c46_3065ec9f88barow0_col5 {\n",
       "            background-color:  #8badfd;\n",
       "            color:  #000000;\n",
       "        }    #T_b9376b80_c8ff_11ea_9c46_3065ec9f88barow0_col6 {\n",
       "            background-color:  #f5c2aa;\n",
       "            color:  #000000;\n",
       "        }    #T_b9376b80_c8ff_11ea_9c46_3065ec9f88barow0_col7 {\n",
       "            background-color:  #82a6fb;\n",
       "            color:  #000000;\n",
       "        }    #T_b9376b80_c8ff_11ea_9c46_3065ec9f88barow0_col8 {\n",
       "            background-color:  #f49a7b;\n",
       "            color:  #000000;\n",
       "        }    #T_b9376b80_c8ff_11ea_9c46_3065ec9f88barow0_col9 {\n",
       "            background-color:  #f6a283;\n",
       "            color:  #000000;\n",
       "        }    #T_b9376b80_c8ff_11ea_9c46_3065ec9f88barow0_col10 {\n",
       "            background-color:  #e4d9d2;\n",
       "            color:  #000000;\n",
       "        }    #T_b9376b80_c8ff_11ea_9c46_3065ec9f88barow0_col11 {\n",
       "            background-color:  #465ecf;\n",
       "            color:  #f1f1f1;\n",
       "        }    #T_b9376b80_c8ff_11ea_9c46_3065ec9f88barow0_col12 {\n",
       "            background-color:  #f7b194;\n",
       "            color:  #000000;\n",
       "        }    #T_b9376b80_c8ff_11ea_9c46_3065ec9f88barow0_col13 {\n",
       "            background-color:  #7b9ff9;\n",
       "            color:  #000000;\n",
       "        }    #T_b9376b80_c8ff_11ea_9c46_3065ec9f88barow1_col0 {\n",
       "            background-color:  #6485ec;\n",
       "            color:  #000000;\n",
       "        }    #T_b9376b80_c8ff_11ea_9c46_3065ec9f88barow1_col1 {\n",
       "            background-color:  #b40426;\n",
       "            color:  #f1f1f1;\n",
       "        }    #T_b9376b80_c8ff_11ea_9c46_3065ec9f88barow1_col2 {\n",
       "            background-color:  #5a78e4;\n",
       "            color:  #000000;\n",
       "        }    #T_b9376b80_c8ff_11ea_9c46_3065ec9f88barow1_col3 {\n",
       "            background-color:  #4f69d9;\n",
       "            color:  #000000;\n",
       "        }    #T_b9376b80_c8ff_11ea_9c46_3065ec9f88barow1_col4 {\n",
       "            background-color:  #6788ee;\n",
       "            color:  #000000;\n",
       "        }    #T_b9376b80_c8ff_11ea_9c46_3065ec9f88barow1_col5 {\n",
       "            background-color:  #edd1c2;\n",
       "            color:  #000000;\n",
       "        }    #T_b9376b80_c8ff_11ea_9c46_3065ec9f88barow1_col6 {\n",
       "            background-color:  #5a78e4;\n",
       "            color:  #000000;\n",
       "        }    #T_b9376b80_c8ff_11ea_9c46_3065ec9f88barow1_col7 {\n",
       "            background-color:  #ec7f63;\n",
       "            color:  #000000;\n",
       "        }    #T_b9376b80_c8ff_11ea_9c46_3065ec9f88barow1_col8 {\n",
       "            background-color:  #6180e9;\n",
       "            color:  #000000;\n",
       "        }    #T_b9376b80_c8ff_11ea_9c46_3065ec9f88barow1_col9 {\n",
       "            background-color:  #6788ee;\n",
       "            color:  #000000;\n",
       "        }    #T_b9376b80_c8ff_11ea_9c46_3065ec9f88barow1_col10 {\n",
       "            background-color:  #516ddb;\n",
       "            color:  #000000;\n",
       "        }    #T_b9376b80_c8ff_11ea_9c46_3065ec9f88barow1_col11 {\n",
       "            background-color:  #c9d7f0;\n",
       "            color:  #000000;\n",
       "        }    #T_b9376b80_c8ff_11ea_9c46_3065ec9f88barow1_col12 {\n",
       "            background-color:  #7699f6;\n",
       "            color:  #000000;\n",
       "        }    #T_b9376b80_c8ff_11ea_9c46_3065ec9f88barow1_col13 {\n",
       "            background-color:  #f5c2aa;\n",
       "            color:  #000000;\n",
       "        }    #T_b9376b80_c8ff_11ea_9c46_3065ec9f88barow2_col0 {\n",
       "            background-color:  #edd1c2;\n",
       "            color:  #000000;\n",
       "        }    #T_b9376b80_c8ff_11ea_9c46_3065ec9f88barow2_col1 {\n",
       "            background-color:  #4055c8;\n",
       "            color:  #f1f1f1;\n",
       "        }    #T_b9376b80_c8ff_11ea_9c46_3065ec9f88barow2_col2 {\n",
       "            background-color:  #b40426;\n",
       "            color:  #f1f1f1;\n",
       "        }    #T_b9376b80_c8ff_11ea_9c46_3065ec9f88barow2_col3 {\n",
       "            background-color:  #6f92f3;\n",
       "            color:  #000000;\n",
       "        }    #T_b9376b80_c8ff_11ea_9c46_3065ec9f88barow2_col4 {\n",
       "            background-color:  #e0654f;\n",
       "            color:  #000000;\n",
       "        }    #T_b9376b80_c8ff_11ea_9c46_3065ec9f88barow2_col5 {\n",
       "            background-color:  #6687ed;\n",
       "            color:  #000000;\n",
       "        }    #T_b9376b80_c8ff_11ea_9c46_3065ec9f88barow2_col6 {\n",
       "            background-color:  #ee8669;\n",
       "            color:  #000000;\n",
       "        }    #T_b9376b80_c8ff_11ea_9c46_3065ec9f88barow2_col7 {\n",
       "            background-color:  #445acc;\n",
       "            color:  #f1f1f1;\n",
       "        }    #T_b9376b80_c8ff_11ea_9c46_3065ec9f88barow2_col8 {\n",
       "            background-color:  #f6a283;\n",
       "            color:  #000000;\n",
       "        }    #T_b9376b80_c8ff_11ea_9c46_3065ec9f88barow2_col9 {\n",
       "            background-color:  #ea7b60;\n",
       "            color:  #000000;\n",
       "        }    #T_b9376b80_c8ff_11ea_9c46_3065ec9f88barow2_col10 {\n",
       "            background-color:  #f1cdba;\n",
       "            color:  #000000;\n",
       "        }    #T_b9376b80_c8ff_11ea_9c46_3065ec9f88barow2_col11 {\n",
       "            background-color:  #4c66d6;\n",
       "            color:  #000000;\n",
       "        }    #T_b9376b80_c8ff_11ea_9c46_3065ec9f88barow2_col12 {\n",
       "            background-color:  #f29072;\n",
       "            color:  #000000;\n",
       "        }    #T_b9376b80_c8ff_11ea_9c46_3065ec9f88barow2_col13 {\n",
       "            background-color:  #688aef;\n",
       "            color:  #000000;\n",
       "        }    #T_b9376b80_c8ff_11ea_9c46_3065ec9f88barow3_col0 {\n",
       "            background-color:  #89acfd;\n",
       "            color:  #000000;\n",
       "        }    #T_b9376b80_c8ff_11ea_9c46_3065ec9f88barow3_col1 {\n",
       "            background-color:  #aac7fd;\n",
       "            color:  #000000;\n",
       "        }    #T_b9376b80_c8ff_11ea_9c46_3065ec9f88barow3_col2 {\n",
       "            background-color:  #cfdaea;\n",
       "            color:  #000000;\n",
       "        }    #T_b9376b80_c8ff_11ea_9c46_3065ec9f88barow3_col3 {\n",
       "            background-color:  #b40426;\n",
       "            color:  #f1f1f1;\n",
       "        }    #T_b9376b80_c8ff_11ea_9c46_3065ec9f88barow3_col4 {\n",
       "            background-color:  #d9dce1;\n",
       "            color:  #000000;\n",
       "        }    #T_b9376b80_c8ff_11ea_9c46_3065ec9f88barow3_col5 {\n",
       "            background-color:  #cbd8ee;\n",
       "            color:  #000000;\n",
       "        }    #T_b9376b80_c8ff_11ea_9c46_3065ec9f88barow3_col6 {\n",
       "            background-color:  #d7dce3;\n",
       "            color:  #000000;\n",
       "        }    #T_b9376b80_c8ff_11ea_9c46_3065ec9f88barow3_col7 {\n",
       "            background-color:  #b9d0f9;\n",
       "            color:  #000000;\n",
       "        }    #T_b9376b80_c8ff_11ea_9c46_3065ec9f88barow3_col8 {\n",
       "            background-color:  #a7c5fe;\n",
       "            color:  #000000;\n",
       "        }    #T_b9376b80_c8ff_11ea_9c46_3065ec9f88barow3_col9 {\n",
       "            background-color:  #a7c5fe;\n",
       "            color:  #000000;\n",
       "        }    #T_b9376b80_c8ff_11ea_9c46_3065ec9f88barow3_col10 {\n",
       "            background-color:  #8fb1fe;\n",
       "            color:  #000000;\n",
       "        }    #T_b9376b80_c8ff_11ea_9c46_3065ec9f88barow3_col11 {\n",
       "            background-color:  #adc9fd;\n",
       "            color:  #000000;\n",
       "        }    #T_b9376b80_c8ff_11ea_9c46_3065ec9f88barow3_col12 {\n",
       "            background-color:  #bed2f6;\n",
       "            color:  #000000;\n",
       "        }    #T_b9376b80_c8ff_11ea_9c46_3065ec9f88barow3_col13 {\n",
       "            background-color:  #e3d9d3;\n",
       "            color:  #000000;\n",
       "        }    #T_b9376b80_c8ff_11ea_9c46_3065ec9f88barow4_col0 {\n",
       "            background-color:  #efcebd;\n",
       "            color:  #000000;\n",
       "        }    #T_b9376b80_c8ff_11ea_9c46_3065ec9f88barow4_col1 {\n",
       "            background-color:  #445acc;\n",
       "            color:  #f1f1f1;\n",
       "        }    #T_b9376b80_c8ff_11ea_9c46_3065ec9f88barow4_col2 {\n",
       "            background-color:  #e16751;\n",
       "            color:  #000000;\n",
       "        }    #T_b9376b80_c8ff_11ea_9c46_3065ec9f88barow4_col3 {\n",
       "            background-color:  #779af7;\n",
       "            color:  #000000;\n",
       "        }    #T_b9376b80_c8ff_11ea_9c46_3065ec9f88barow4_col4 {\n",
       "            background-color:  #b40426;\n",
       "            color:  #f1f1f1;\n",
       "        }    #T_b9376b80_c8ff_11ea_9c46_3065ec9f88barow4_col5 {\n",
       "            background-color:  #799cf8;\n",
       "            color:  #000000;\n",
       "        }    #T_b9376b80_c8ff_11ea_9c46_3065ec9f88barow4_col6 {\n",
       "            background-color:  #e46e56;\n",
       "            color:  #000000;\n",
       "        }    #T_b9376b80_c8ff_11ea_9c46_3065ec9f88barow4_col7 {\n",
       "            background-color:  #3b4cc0;\n",
       "            color:  #f1f1f1;\n",
       "        }    #T_b9376b80_c8ff_11ea_9c46_3065ec9f88barow4_col8 {\n",
       "            background-color:  #f59d7e;\n",
       "            color:  #000000;\n",
       "        }    #T_b9376b80_c8ff_11ea_9c46_3065ec9f88barow4_col9 {\n",
       "            background-color:  #f08b6e;\n",
       "            color:  #000000;\n",
       "        }    #T_b9376b80_c8ff_11ea_9c46_3065ec9f88barow4_col10 {\n",
       "            background-color:  #d3dbe7;\n",
       "            color:  #000000;\n",
       "        }    #T_b9376b80_c8ff_11ea_9c46_3065ec9f88barow4_col11 {\n",
       "            background-color:  #485fd1;\n",
       "            color:  #f1f1f1;\n",
       "        }    #T_b9376b80_c8ff_11ea_9c46_3065ec9f88barow4_col12 {\n",
       "            background-color:  #f39475;\n",
       "            color:  #000000;\n",
       "        }    #T_b9376b80_c8ff_11ea_9c46_3065ec9f88barow4_col13 {\n",
       "            background-color:  #7396f5;\n",
       "            color:  #000000;\n",
       "        }    #T_b9376b80_c8ff_11ea_9c46_3065ec9f88barow5_col0 {\n",
       "            background-color:  #6180e9;\n",
       "            color:  #000000;\n",
       "        }    #T_b9376b80_c8ff_11ea_9c46_3065ec9f88barow5_col1 {\n",
       "            background-color:  #ebd3c6;\n",
       "            color:  #000000;\n",
       "        }    #T_b9376b80_c8ff_11ea_9c46_3065ec9f88barow5_col2 {\n",
       "            background-color:  #7699f6;\n",
       "            color:  #000000;\n",
       "        }    #T_b9376b80_c8ff_11ea_9c46_3065ec9f88barow5_col3 {\n",
       "            background-color:  #779af7;\n",
       "            color:  #000000;\n",
       "        }    #T_b9376b80_c8ff_11ea_9c46_3065ec9f88barow5_col4 {\n",
       "            background-color:  #92b4fe;\n",
       "            color:  #000000;\n",
       "        }    #T_b9376b80_c8ff_11ea_9c46_3065ec9f88barow5_col5 {\n",
       "            background-color:  #b40426;\n",
       "            color:  #f1f1f1;\n",
       "        }    #T_b9376b80_c8ff_11ea_9c46_3065ec9f88barow5_col6 {\n",
       "            background-color:  #9bbcff;\n",
       "            color:  #000000;\n",
       "        }    #T_b9376b80_c8ff_11ea_9c46_3065ec9f88barow5_col7 {\n",
       "            background-color:  #ead5c9;\n",
       "            color:  #000000;\n",
       "        }    #T_b9376b80_c8ff_11ea_9c46_3065ec9f88barow5_col8 {\n",
       "            background-color:  #779af7;\n",
       "            color:  #000000;\n",
       "        }    #T_b9376b80_c8ff_11ea_9c46_3065ec9f88barow5_col9 {\n",
       "            background-color:  #6c8ff1;\n",
       "            color:  #000000;\n",
       "        }    #T_b9376b80_c8ff_11ea_9c46_3065ec9f88barow5_col10 {\n",
       "            background-color:  #5977e3;\n",
       "            color:  #000000;\n",
       "        }    #T_b9376b80_c8ff_11ea_9c46_3065ec9f88barow5_col11 {\n",
       "            background-color:  #bfd3f6;\n",
       "            color:  #000000;\n",
       "        }    #T_b9376b80_c8ff_11ea_9c46_3065ec9f88barow5_col12 {\n",
       "            background-color:  #506bda;\n",
       "            color:  #000000;\n",
       "        }    #T_b9376b80_c8ff_11ea_9c46_3065ec9f88barow5_col13 {\n",
       "            background-color:  #e9785d;\n",
       "            color:  #000000;\n",
       "        }    #T_b9376b80_c8ff_11ea_9c46_3065ec9f88barow6_col0 {\n",
       "            background-color:  #e5d8d1;\n",
       "            color:  #000000;\n",
       "        }    #T_b9376b80_c8ff_11ea_9c46_3065ec9f88barow6_col1 {\n",
       "            background-color:  #3b4cc0;\n",
       "            color:  #f1f1f1;\n",
       "        }    #T_b9376b80_c8ff_11ea_9c46_3065ec9f88barow6_col2 {\n",
       "            background-color:  #ef886b;\n",
       "            color:  #000000;\n",
       "        }    #T_b9376b80_c8ff_11ea_9c46_3065ec9f88barow6_col3 {\n",
       "            background-color:  #7699f6;\n",
       "            color:  #000000;\n",
       "        }    #T_b9376b80_c8ff_11ea_9c46_3065ec9f88barow6_col4 {\n",
       "            background-color:  #e36c55;\n",
       "            color:  #000000;\n",
       "        }    #T_b9376b80_c8ff_11ea_9c46_3065ec9f88barow6_col5 {\n",
       "            background-color:  #86a9fc;\n",
       "            color:  #000000;\n",
       "        }    #T_b9376b80_c8ff_11ea_9c46_3065ec9f88barow6_col6 {\n",
       "            background-color:  #b40426;\n",
       "            color:  #f1f1f1;\n",
       "        }    #T_b9376b80_c8ff_11ea_9c46_3065ec9f88barow6_col7 {\n",
       "            background-color:  #3e51c5;\n",
       "            color:  #f1f1f1;\n",
       "        }    #T_b9376b80_c8ff_11ea_9c46_3065ec9f88barow6_col8 {\n",
       "            background-color:  #f5c1a9;\n",
       "            color:  #000000;\n",
       "        }    #T_b9376b80_c8ff_11ea_9c46_3065ec9f88barow6_col9 {\n",
       "            background-color:  #f7b497;\n",
       "            color:  #000000;\n",
       "        }    #T_b9376b80_c8ff_11ea_9c46_3065ec9f88barow6_col10 {\n",
       "            background-color:  #dfdbd9;\n",
       "            color:  #000000;\n",
       "        }    #T_b9376b80_c8ff_11ea_9c46_3065ec9f88barow6_col11 {\n",
       "            background-color:  #5f7fe8;\n",
       "            color:  #000000;\n",
       "        }    #T_b9376b80_c8ff_11ea_9c46_3065ec9f88barow6_col12 {\n",
       "            background-color:  #f29072;\n",
       "            color:  #000000;\n",
       "        }    #T_b9376b80_c8ff_11ea_9c46_3065ec9f88barow6_col13 {\n",
       "            background-color:  #7ea1fa;\n",
       "            color:  #000000;\n",
       "        }    #T_b9376b80_c8ff_11ea_9c46_3065ec9f88barow7_col0 {\n",
       "            background-color:  #3c4ec2;\n",
       "            color:  #f1f1f1;\n",
       "        }    #T_b9376b80_c8ff_11ea_9c46_3065ec9f88barow7_col1 {\n",
       "            background-color:  #f08a6c;\n",
       "            color:  #000000;\n",
       "        }    #T_b9376b80_c8ff_11ea_9c46_3065ec9f88barow7_col2 {\n",
       "            background-color:  #3b4cc0;\n",
       "            color:  #f1f1f1;\n",
       "        }    #T_b9376b80_c8ff_11ea_9c46_3065ec9f88barow7_col3 {\n",
       "            background-color:  #4055c8;\n",
       "            color:  #f1f1f1;\n",
       "        }    #T_b9376b80_c8ff_11ea_9c46_3065ec9f88barow7_col4 {\n",
       "            background-color:  #3b4cc0;\n",
       "            color:  #f1f1f1;\n",
       "        }    #T_b9376b80_c8ff_11ea_9c46_3065ec9f88barow7_col5 {\n",
       "            background-color:  #dedcdb;\n",
       "            color:  #000000;\n",
       "        }    #T_b9376b80_c8ff_11ea_9c46_3065ec9f88barow7_col6 {\n",
       "            background-color:  #3b4cc0;\n",
       "            color:  #f1f1f1;\n",
       "        }    #T_b9376b80_c8ff_11ea_9c46_3065ec9f88barow7_col7 {\n",
       "            background-color:  #b40426;\n",
       "            color:  #f1f1f1;\n",
       "        }    #T_b9376b80_c8ff_11ea_9c46_3065ec9f88barow7_col8 {\n",
       "            background-color:  #3b4cc0;\n",
       "            color:  #f1f1f1;\n",
       "        }    #T_b9376b80_c8ff_11ea_9c46_3065ec9f88barow7_col9 {\n",
       "            background-color:  #3b4cc0;\n",
       "            color:  #f1f1f1;\n",
       "        }    #T_b9376b80_c8ff_11ea_9c46_3065ec9f88barow7_col10 {\n",
       "            background-color:  #7597f6;\n",
       "            color:  #000000;\n",
       "        }    #T_b9376b80_c8ff_11ea_9c46_3065ec9f88barow7_col11 {\n",
       "            background-color:  #dfdbd9;\n",
       "            color:  #000000;\n",
       "        }    #T_b9376b80_c8ff_11ea_9c46_3065ec9f88barow7_col12 {\n",
       "            background-color:  #6687ed;\n",
       "            color:  #000000;\n",
       "        }    #T_b9376b80_c8ff_11ea_9c46_3065ec9f88barow7_col13 {\n",
       "            background-color:  #edd2c3;\n",
       "            color:  #000000;\n",
       "        }    #T_b9376b80_c8ff_11ea_9c46_3065ec9f88barow8_col0 {\n",
       "            background-color:  #f6a283;\n",
       "            color:  #000000;\n",
       "        }    #T_b9376b80_c8ff_11ea_9c46_3065ec9f88barow8_col1 {\n",
       "            background-color:  #6f92f3;\n",
       "            color:  #000000;\n",
       "        }    #T_b9376b80_c8ff_11ea_9c46_3065ec9f88barow8_col2 {\n",
       "            background-color:  #f39475;\n",
       "            color:  #000000;\n",
       "        }    #T_b9376b80_c8ff_11ea_9c46_3065ec9f88barow8_col3 {\n",
       "            background-color:  #5a78e4;\n",
       "            color:  #000000;\n",
       "        }    #T_b9376b80_c8ff_11ea_9c46_3065ec9f88barow8_col4 {\n",
       "            background-color:  #f18d6f;\n",
       "            color:  #000000;\n",
       "        }    #T_b9376b80_c8ff_11ea_9c46_3065ec9f88barow8_col5 {\n",
       "            background-color:  #8db0fe;\n",
       "            color:  #000000;\n",
       "        }    #T_b9376b80_c8ff_11ea_9c46_3065ec9f88barow8_col6 {\n",
       "            background-color:  #f7b093;\n",
       "            color:  #000000;\n",
       "        }    #T_b9376b80_c8ff_11ea_9c46_3065ec9f88barow8_col7 {\n",
       "            background-color:  #6b8df0;\n",
       "            color:  #000000;\n",
       "        }    #T_b9376b80_c8ff_11ea_9c46_3065ec9f88barow8_col8 {\n",
       "            background-color:  #b40426;\n",
       "            color:  #f1f1f1;\n",
       "        }    #T_b9376b80_c8ff_11ea_9c46_3065ec9f88barow8_col9 {\n",
       "            background-color:  #c83836;\n",
       "            color:  #f1f1f1;\n",
       "        }    #T_b9376b80_c8ff_11ea_9c46_3065ec9f88barow8_col10 {\n",
       "            background-color:  #f6bea4;\n",
       "            color:  #000000;\n",
       "        }    #T_b9376b80_c8ff_11ea_9c46_3065ec9f88barow8_col11 {\n",
       "            background-color:  #3b4cc0;\n",
       "            color:  #f1f1f1;\n",
       "        }    #T_b9376b80_c8ff_11ea_9c46_3065ec9f88barow8_col12 {\n",
       "            background-color:  #f7aa8c;\n",
       "            color:  #000000;\n",
       "        }    #T_b9376b80_c8ff_11ea_9c46_3065ec9f88barow8_col13 {\n",
       "            background-color:  #7da0f9;\n",
       "            color:  #000000;\n",
       "        }    #T_b9376b80_c8ff_11ea_9c46_3065ec9f88barow9_col0 {\n",
       "            background-color:  #f7ac8e;\n",
       "            color:  #000000;\n",
       "        }    #T_b9376b80_c8ff_11ea_9c46_3065ec9f88barow9_col1 {\n",
       "            background-color:  #6e90f2;\n",
       "            color:  #000000;\n",
       "        }    #T_b9376b80_c8ff_11ea_9c46_3065ec9f88barow9_col2 {\n",
       "            background-color:  #e67259;\n",
       "            color:  #000000;\n",
       "        }    #T_b9376b80_c8ff_11ea_9c46_3065ec9f88barow9_col3 {\n",
       "            background-color:  #516ddb;\n",
       "            color:  #000000;\n",
       "        }    #T_b9376b80_c8ff_11ea_9c46_3065ec9f88barow9_col4 {\n",
       "            background-color:  #ec7f63;\n",
       "            color:  #000000;\n",
       "        }    #T_b9376b80_c8ff_11ea_9c46_3065ec9f88barow9_col5 {\n",
       "            background-color:  #7b9ff9;\n",
       "            color:  #000000;\n",
       "        }    #T_b9376b80_c8ff_11ea_9c46_3065ec9f88barow9_col6 {\n",
       "            background-color:  #f7a688;\n",
       "            color:  #000000;\n",
       "        }    #T_b9376b80_c8ff_11ea_9c46_3065ec9f88barow9_col7 {\n",
       "            background-color:  #6384eb;\n",
       "            color:  #000000;\n",
       "        }    #T_b9376b80_c8ff_11ea_9c46_3065ec9f88barow9_col8 {\n",
       "            background-color:  #ca3b37;\n",
       "            color:  #f1f1f1;\n",
       "        }    #T_b9376b80_c8ff_11ea_9c46_3065ec9f88barow9_col9 {\n",
       "            background-color:  #b40426;\n",
       "            color:  #f1f1f1;\n",
       "        }    #T_b9376b80_c8ff_11ea_9c46_3065ec9f88barow9_col10 {\n",
       "            background-color:  #f6bfa6;\n",
       "            color:  #000000;\n",
       "        }    #T_b9376b80_c8ff_11ea_9c46_3065ec9f88barow9_col11 {\n",
       "            background-color:  #3b4cc0;\n",
       "            color:  #f1f1f1;\n",
       "        }    #T_b9376b80_c8ff_11ea_9c46_3065ec9f88barow9_col12 {\n",
       "            background-color:  #f59f80;\n",
       "            color:  #000000;\n",
       "        }    #T_b9376b80_c8ff_11ea_9c46_3065ec9f88barow9_col13 {\n",
       "            background-color:  #6b8df0;\n",
       "            color:  #000000;\n",
       "        }    #T_b9376b80_c8ff_11ea_9c46_3065ec9f88barow10_col0 {\n",
       "            background-color:  #dadce0;\n",
       "            color:  #000000;\n",
       "        }    #T_b9376b80_c8ff_11ea_9c46_3065ec9f88barow10_col1 {\n",
       "            background-color:  #5e7de7;\n",
       "            color:  #000000;\n",
       "        }    #T_b9376b80_c8ff_11ea_9c46_3065ec9f88barow10_col2 {\n",
       "            background-color:  #f5c0a7;\n",
       "            color:  #000000;\n",
       "        }    #T_b9376b80_c8ff_11ea_9c46_3065ec9f88barow10_col3 {\n",
       "            background-color:  #3b4cc0;\n",
       "            color:  #f1f1f1;\n",
       "        }    #T_b9376b80_c8ff_11ea_9c46_3065ec9f88barow10_col4 {\n",
       "            background-color:  #e7d7ce;\n",
       "            color:  #000000;\n",
       "        }    #T_b9376b80_c8ff_11ea_9c46_3065ec9f88barow10_col5 {\n",
       "            background-color:  #6c8ff1;\n",
       "            color:  #000000;\n",
       "        }    #T_b9376b80_c8ff_11ea_9c46_3065ec9f88barow10_col6 {\n",
       "            background-color:  #eed0c0;\n",
       "            color:  #000000;\n",
       "        }    #T_b9376b80_c8ff_11ea_9c46_3065ec9f88barow10_col7 {\n",
       "            background-color:  #9fbfff;\n",
       "            color:  #000000;\n",
       "        }    #T_b9376b80_c8ff_11ea_9c46_3065ec9f88barow10_col8 {\n",
       "            background-color:  #f6bfa6;\n",
       "            color:  #000000;\n",
       "        }    #T_b9376b80_c8ff_11ea_9c46_3065ec9f88barow10_col9 {\n",
       "            background-color:  #f6bda2;\n",
       "            color:  #000000;\n",
       "        }    #T_b9376b80_c8ff_11ea_9c46_3065ec9f88barow10_col10 {\n",
       "            background-color:  #b40426;\n",
       "            color:  #f1f1f1;\n",
       "        }    #T_b9376b80_c8ff_11ea_9c46_3065ec9f88barow10_col11 {\n",
       "            background-color:  #7699f6;\n",
       "            color:  #000000;\n",
       "        }    #T_b9376b80_c8ff_11ea_9c46_3065ec9f88barow10_col12 {\n",
       "            background-color:  #f5c0a7;\n",
       "            color:  #000000;\n",
       "        }    #T_b9376b80_c8ff_11ea_9c46_3065ec9f88barow10_col13 {\n",
       "            background-color:  #6384eb;\n",
       "            color:  #000000;\n",
       "        }    #T_b9376b80_c8ff_11ea_9c46_3065ec9f88barow11_col0 {\n",
       "            background-color:  #3b4cc0;\n",
       "            color:  #f1f1f1;\n",
       "        }    #T_b9376b80_c8ff_11ea_9c46_3065ec9f88barow11_col1 {\n",
       "            background-color:  #d6dce4;\n",
       "            color:  #000000;\n",
       "        }    #T_b9376b80_c8ff_11ea_9c46_3065ec9f88barow11_col2 {\n",
       "            background-color:  #7da0f9;\n",
       "            color:  #000000;\n",
       "        }    #T_b9376b80_c8ff_11ea_9c46_3065ec9f88barow11_col3 {\n",
       "            background-color:  #6a8bef;\n",
       "            color:  #000000;\n",
       "        }    #T_b9376b80_c8ff_11ea_9c46_3065ec9f88barow11_col4 {\n",
       "            background-color:  #82a6fb;\n",
       "            color:  #000000;\n",
       "        }    #T_b9376b80_c8ff_11ea_9c46_3065ec9f88barow11_col5 {\n",
       "            background-color:  #d2dbe8;\n",
       "            color:  #000000;\n",
       "        }    #T_b9376b80_c8ff_11ea_9c46_3065ec9f88barow11_col6 {\n",
       "            background-color:  #94b6ff;\n",
       "            color:  #000000;\n",
       "        }    #T_b9376b80_c8ff_11ea_9c46_3065ec9f88barow11_col7 {\n",
       "            background-color:  #f2cbb7;\n",
       "            color:  #000000;\n",
       "        }    #T_b9376b80_c8ff_11ea_9c46_3065ec9f88barow11_col8 {\n",
       "            background-color:  #445acc;\n",
       "            color:  #f1f1f1;\n",
       "        }    #T_b9376b80_c8ff_11ea_9c46_3065ec9f88barow11_col9 {\n",
       "            background-color:  #4c66d6;\n",
       "            color:  #000000;\n",
       "        }    #T_b9376b80_c8ff_11ea_9c46_3065ec9f88barow11_col10 {\n",
       "            background-color:  #82a6fb;\n",
       "            color:  #000000;\n",
       "        }    #T_b9376b80_c8ff_11ea_9c46_3065ec9f88barow11_col11 {\n",
       "            background-color:  #b40426;\n",
       "            color:  #f1f1f1;\n",
       "        }    #T_b9376b80_c8ff_11ea_9c46_3065ec9f88barow11_col12 {\n",
       "            background-color:  #80a3fa;\n",
       "            color:  #000000;\n",
       "        }    #T_b9376b80_c8ff_11ea_9c46_3065ec9f88barow11_col13 {\n",
       "            background-color:  #f3c7b1;\n",
       "            color:  #000000;\n",
       "        }    #T_b9376b80_c8ff_11ea_9c46_3065ec9f88barow12_col0 {\n",
       "            background-color:  #f2c9b4;\n",
       "            color:  #000000;\n",
       "        }    #T_b9376b80_c8ff_11ea_9c46_3065ec9f88barow12_col1 {\n",
       "            background-color:  #5977e3;\n",
       "            color:  #000000;\n",
       "        }    #T_b9376b80_c8ff_11ea_9c46_3065ec9f88barow12_col2 {\n",
       "            background-color:  #f29274;\n",
       "            color:  #000000;\n",
       "        }    #T_b9376b80_c8ff_11ea_9c46_3065ec9f88barow12_col3 {\n",
       "            background-color:  #4c66d6;\n",
       "            color:  #000000;\n",
       "        }    #T_b9376b80_c8ff_11ea_9c46_3065ec9f88barow12_col4 {\n",
       "            background-color:  #f29274;\n",
       "            color:  #000000;\n",
       "        }    #T_b9376b80_c8ff_11ea_9c46_3065ec9f88barow12_col5 {\n",
       "            background-color:  #3b4cc0;\n",
       "            color:  #f1f1f1;\n",
       "        }    #T_b9376b80_c8ff_11ea_9c46_3065ec9f88barow12_col6 {\n",
       "            background-color:  #f29072;\n",
       "            color:  #000000;\n",
       "        }    #T_b9376b80_c8ff_11ea_9c46_3065ec9f88barow12_col7 {\n",
       "            background-color:  #6b8df0;\n",
       "            color:  #000000;\n",
       "        }    #T_b9376b80_c8ff_11ea_9c46_3065ec9f88barow12_col8 {\n",
       "            background-color:  #f7ba9f;\n",
       "            color:  #000000;\n",
       "        }    #T_b9376b80_c8ff_11ea_9c46_3065ec9f88barow12_col9 {\n",
       "            background-color:  #f7ac8e;\n",
       "            color:  #000000;\n",
       "        }    #T_b9376b80_c8ff_11ea_9c46_3065ec9f88barow12_col10 {\n",
       "            background-color:  #efcebd;\n",
       "            color:  #000000;\n",
       "        }    #T_b9376b80_c8ff_11ea_9c46_3065ec9f88barow12_col11 {\n",
       "            background-color:  #4a63d3;\n",
       "            color:  #f1f1f1;\n",
       "        }    #T_b9376b80_c8ff_11ea_9c46_3065ec9f88barow12_col12 {\n",
       "            background-color:  #b40426;\n",
       "            color:  #f1f1f1;\n",
       "        }    #T_b9376b80_c8ff_11ea_9c46_3065ec9f88barow12_col13 {\n",
       "            background-color:  #3b4cc0;\n",
       "            color:  #f1f1f1;\n",
       "        }    #T_b9376b80_c8ff_11ea_9c46_3065ec9f88barow13_col0 {\n",
       "            background-color:  #3b4cc0;\n",
       "            color:  #f1f1f1;\n",
       "        }    #T_b9376b80_c8ff_11ea_9c46_3065ec9f88barow13_col1 {\n",
       "            background-color:  #f1cdba;\n",
       "            color:  #000000;\n",
       "        }    #T_b9376b80_c8ff_11ea_9c46_3065ec9f88barow13_col2 {\n",
       "            background-color:  #6384eb;\n",
       "            color:  #000000;\n",
       "        }    #T_b9376b80_c8ff_11ea_9c46_3065ec9f88barow13_col3 {\n",
       "            background-color:  #92b4fe;\n",
       "            color:  #000000;\n",
       "        }    #T_b9376b80_c8ff_11ea_9c46_3065ec9f88barow13_col4 {\n",
       "            background-color:  #799cf8;\n",
       "            color:  #000000;\n",
       "        }    #T_b9376b80_c8ff_11ea_9c46_3065ec9f88barow13_col5 {\n",
       "            background-color:  #ec7f63;\n",
       "            color:  #000000;\n",
       "        }    #T_b9376b80_c8ff_11ea_9c46_3065ec9f88barow13_col6 {\n",
       "            background-color:  #80a3fa;\n",
       "            color:  #000000;\n",
       "        }    #T_b9376b80_c8ff_11ea_9c46_3065ec9f88barow13_col7 {\n",
       "            background-color:  #eed0c0;\n",
       "            color:  #000000;\n",
       "        }    #T_b9376b80_c8ff_11ea_9c46_3065ec9f88barow13_col8 {\n",
       "            background-color:  #516ddb;\n",
       "            color:  #000000;\n",
       "        }    #T_b9376b80_c8ff_11ea_9c46_3065ec9f88barow13_col9 {\n",
       "            background-color:  #465ecf;\n",
       "            color:  #f1f1f1;\n",
       "        }    #T_b9376b80_c8ff_11ea_9c46_3065ec9f88barow13_col10 {\n",
       "            background-color:  #3b4cc0;\n",
       "            color:  #f1f1f1;\n",
       "        }    #T_b9376b80_c8ff_11ea_9c46_3065ec9f88barow13_col11 {\n",
       "            background-color:  #e6d7cf;\n",
       "            color:  #000000;\n",
       "        }    #T_b9376b80_c8ff_11ea_9c46_3065ec9f88barow13_col12 {\n",
       "            background-color:  #3b4cc0;\n",
       "            color:  #f1f1f1;\n",
       "        }    #T_b9376b80_c8ff_11ea_9c46_3065ec9f88barow13_col13 {\n",
       "            background-color:  #b40426;\n",
       "            color:  #f1f1f1;\n",
       "        }</style><table id=\"T_b9376b80_c8ff_11ea_9c46_3065ec9f88ba\" ><thead>    <tr>        <th class=\"blank level0\" ></th>        <th class=\"col_heading level0 col0\" >CRIM</th>        <th class=\"col_heading level0 col1\" >ZN</th>        <th class=\"col_heading level0 col2\" >INDUS</th>        <th class=\"col_heading level0 col3\" >CHAS</th>        <th class=\"col_heading level0 col4\" >NOX</th>        <th class=\"col_heading level0 col5\" >RM</th>        <th class=\"col_heading level0 col6\" >AGE</th>        <th class=\"col_heading level0 col7\" >DIS</th>        <th class=\"col_heading level0 col8\" >RAD</th>        <th class=\"col_heading level0 col9\" >TAX</th>        <th class=\"col_heading level0 col10\" >PTRATIO</th>        <th class=\"col_heading level0 col11\" >B</th>        <th class=\"col_heading level0 col12\" >LSTAT</th>        <th class=\"col_heading level0 col13\" >MEDV</th>    </tr></thead><tbody>\n",
       "                <tr>\n",
       "                        <th id=\"T_b9376b80_c8ff_11ea_9c46_3065ec9f88balevel0_row0\" class=\"row_heading level0 row0\" >CRIM</th>\n",
       "                        <td id=\"T_b9376b80_c8ff_11ea_9c46_3065ec9f88barow0_col0\" class=\"data row0 col0\" >1.00</td>\n",
       "                        <td id=\"T_b9376b80_c8ff_11ea_9c46_3065ec9f88barow0_col1\" class=\"data row0 col1\" >-0.20</td>\n",
       "                        <td id=\"T_b9376b80_c8ff_11ea_9c46_3065ec9f88barow0_col2\" class=\"data row0 col2\" >0.41</td>\n",
       "                        <td id=\"T_b9376b80_c8ff_11ea_9c46_3065ec9f88barow0_col3\" class=\"data row0 col3\" >-0.06</td>\n",
       "                        <td id=\"T_b9376b80_c8ff_11ea_9c46_3065ec9f88barow0_col4\" class=\"data row0 col4\" >0.42</td>\n",
       "                        <td id=\"T_b9376b80_c8ff_11ea_9c46_3065ec9f88barow0_col5\" class=\"data row0 col5\" >-0.22</td>\n",
       "                        <td id=\"T_b9376b80_c8ff_11ea_9c46_3065ec9f88barow0_col6\" class=\"data row0 col6\" >0.35</td>\n",
       "                        <td id=\"T_b9376b80_c8ff_11ea_9c46_3065ec9f88barow0_col7\" class=\"data row0 col7\" >-0.38</td>\n",
       "                        <td id=\"T_b9376b80_c8ff_11ea_9c46_3065ec9f88barow0_col8\" class=\"data row0 col8\" >0.63</td>\n",
       "                        <td id=\"T_b9376b80_c8ff_11ea_9c46_3065ec9f88barow0_col9\" class=\"data row0 col9\" >0.58</td>\n",
       "                        <td id=\"T_b9376b80_c8ff_11ea_9c46_3065ec9f88barow0_col10\" class=\"data row0 col10\" >0.29</td>\n",
       "                        <td id=\"T_b9376b80_c8ff_11ea_9c46_3065ec9f88barow0_col11\" class=\"data row0 col11\" >-0.39</td>\n",
       "                        <td id=\"T_b9376b80_c8ff_11ea_9c46_3065ec9f88barow0_col12\" class=\"data row0 col12\" >0.46</td>\n",
       "                        <td id=\"T_b9376b80_c8ff_11ea_9c46_3065ec9f88barow0_col13\" class=\"data row0 col13\" >-0.39</td>\n",
       "            </tr>\n",
       "            <tr>\n",
       "                        <th id=\"T_b9376b80_c8ff_11ea_9c46_3065ec9f88balevel0_row1\" class=\"row_heading level0 row1\" >ZN</th>\n",
       "                        <td id=\"T_b9376b80_c8ff_11ea_9c46_3065ec9f88barow1_col0\" class=\"data row1 col0\" >-0.20</td>\n",
       "                        <td id=\"T_b9376b80_c8ff_11ea_9c46_3065ec9f88barow1_col1\" class=\"data row1 col1\" >1.00</td>\n",
       "                        <td id=\"T_b9376b80_c8ff_11ea_9c46_3065ec9f88barow1_col2\" class=\"data row1 col2\" >-0.53</td>\n",
       "                        <td id=\"T_b9376b80_c8ff_11ea_9c46_3065ec9f88barow1_col3\" class=\"data row1 col3\" >-0.04</td>\n",
       "                        <td id=\"T_b9376b80_c8ff_11ea_9c46_3065ec9f88barow1_col4\" class=\"data row1 col4\" >-0.52</td>\n",
       "                        <td id=\"T_b9376b80_c8ff_11ea_9c46_3065ec9f88barow1_col5\" class=\"data row1 col5\" >0.31</td>\n",
       "                        <td id=\"T_b9376b80_c8ff_11ea_9c46_3065ec9f88barow1_col6\" class=\"data row1 col6\" >-0.57</td>\n",
       "                        <td id=\"T_b9376b80_c8ff_11ea_9c46_3065ec9f88barow1_col7\" class=\"data row1 col7\" >0.66</td>\n",
       "                        <td id=\"T_b9376b80_c8ff_11ea_9c46_3065ec9f88barow1_col8\" class=\"data row1 col8\" >-0.31</td>\n",
       "                        <td id=\"T_b9376b80_c8ff_11ea_9c46_3065ec9f88barow1_col9\" class=\"data row1 col9\" >-0.31</td>\n",
       "                        <td id=\"T_b9376b80_c8ff_11ea_9c46_3065ec9f88barow1_col10\" class=\"data row1 col10\" >-0.39</td>\n",
       "                        <td id=\"T_b9376b80_c8ff_11ea_9c46_3065ec9f88barow1_col11\" class=\"data row1 col11\" >0.18</td>\n",
       "                        <td id=\"T_b9376b80_c8ff_11ea_9c46_3065ec9f88barow1_col12\" class=\"data row1 col12\" >-0.41</td>\n",
       "                        <td id=\"T_b9376b80_c8ff_11ea_9c46_3065ec9f88barow1_col13\" class=\"data row1 col13\" >0.36</td>\n",
       "            </tr>\n",
       "            <tr>\n",
       "                        <th id=\"T_b9376b80_c8ff_11ea_9c46_3065ec9f88balevel0_row2\" class=\"row_heading level0 row2\" >INDUS</th>\n",
       "                        <td id=\"T_b9376b80_c8ff_11ea_9c46_3065ec9f88barow2_col0\" class=\"data row2 col0\" >0.41</td>\n",
       "                        <td id=\"T_b9376b80_c8ff_11ea_9c46_3065ec9f88barow2_col1\" class=\"data row2 col1\" >-0.53</td>\n",
       "                        <td id=\"T_b9376b80_c8ff_11ea_9c46_3065ec9f88barow2_col2\" class=\"data row2 col2\" >1.00</td>\n",
       "                        <td id=\"T_b9376b80_c8ff_11ea_9c46_3065ec9f88barow2_col3\" class=\"data row2 col3\" >0.06</td>\n",
       "                        <td id=\"T_b9376b80_c8ff_11ea_9c46_3065ec9f88barow2_col4\" class=\"data row2 col4\" >0.76</td>\n",
       "                        <td id=\"T_b9376b80_c8ff_11ea_9c46_3065ec9f88barow2_col5\" class=\"data row2 col5\" >-0.39</td>\n",
       "                        <td id=\"T_b9376b80_c8ff_11ea_9c46_3065ec9f88barow2_col6\" class=\"data row2 col6\" >0.64</td>\n",
       "                        <td id=\"T_b9376b80_c8ff_11ea_9c46_3065ec9f88barow2_col7\" class=\"data row2 col7\" >-0.71</td>\n",
       "                        <td id=\"T_b9376b80_c8ff_11ea_9c46_3065ec9f88barow2_col8\" class=\"data row2 col8\" >0.60</td>\n",
       "                        <td id=\"T_b9376b80_c8ff_11ea_9c46_3065ec9f88barow2_col9\" class=\"data row2 col9\" >0.72</td>\n",
       "                        <td id=\"T_b9376b80_c8ff_11ea_9c46_3065ec9f88barow2_col10\" class=\"data row2 col10\" >0.38</td>\n",
       "                        <td id=\"T_b9376b80_c8ff_11ea_9c46_3065ec9f88barow2_col11\" class=\"data row2 col11\" >-0.36</td>\n",
       "                        <td id=\"T_b9376b80_c8ff_11ea_9c46_3065ec9f88barow2_col12\" class=\"data row2 col12\" >0.60</td>\n",
       "                        <td id=\"T_b9376b80_c8ff_11ea_9c46_3065ec9f88barow2_col13\" class=\"data row2 col13\" >-0.48</td>\n",
       "            </tr>\n",
       "            <tr>\n",
       "                        <th id=\"T_b9376b80_c8ff_11ea_9c46_3065ec9f88balevel0_row3\" class=\"row_heading level0 row3\" >CHAS</th>\n",
       "                        <td id=\"T_b9376b80_c8ff_11ea_9c46_3065ec9f88barow3_col0\" class=\"data row3 col0\" >-0.06</td>\n",
       "                        <td id=\"T_b9376b80_c8ff_11ea_9c46_3065ec9f88barow3_col1\" class=\"data row3 col1\" >-0.04</td>\n",
       "                        <td id=\"T_b9376b80_c8ff_11ea_9c46_3065ec9f88barow3_col2\" class=\"data row3 col2\" >0.06</td>\n",
       "                        <td id=\"T_b9376b80_c8ff_11ea_9c46_3065ec9f88barow3_col3\" class=\"data row3 col3\" >1.00</td>\n",
       "                        <td id=\"T_b9376b80_c8ff_11ea_9c46_3065ec9f88barow3_col4\" class=\"data row3 col4\" >0.09</td>\n",
       "                        <td id=\"T_b9376b80_c8ff_11ea_9c46_3065ec9f88barow3_col5\" class=\"data row3 col5\" >0.09</td>\n",
       "                        <td id=\"T_b9376b80_c8ff_11ea_9c46_3065ec9f88barow3_col6\" class=\"data row3 col6\" >0.09</td>\n",
       "                        <td id=\"T_b9376b80_c8ff_11ea_9c46_3065ec9f88barow3_col7\" class=\"data row3 col7\" >-0.10</td>\n",
       "                        <td id=\"T_b9376b80_c8ff_11ea_9c46_3065ec9f88barow3_col8\" class=\"data row3 col8\" >-0.01</td>\n",
       "                        <td id=\"T_b9376b80_c8ff_11ea_9c46_3065ec9f88barow3_col9\" class=\"data row3 col9\" >-0.04</td>\n",
       "                        <td id=\"T_b9376b80_c8ff_11ea_9c46_3065ec9f88barow3_col10\" class=\"data row3 col10\" >-0.12</td>\n",
       "                        <td id=\"T_b9376b80_c8ff_11ea_9c46_3065ec9f88barow3_col11\" class=\"data row3 col11\" >0.05</td>\n",
       "                        <td id=\"T_b9376b80_c8ff_11ea_9c46_3065ec9f88barow3_col12\" class=\"data row3 col12\" >-0.05</td>\n",
       "                        <td id=\"T_b9376b80_c8ff_11ea_9c46_3065ec9f88barow3_col13\" class=\"data row3 col13\" >0.18</td>\n",
       "            </tr>\n",
       "            <tr>\n",
       "                        <th id=\"T_b9376b80_c8ff_11ea_9c46_3065ec9f88balevel0_row4\" class=\"row_heading level0 row4\" >NOX</th>\n",
       "                        <td id=\"T_b9376b80_c8ff_11ea_9c46_3065ec9f88barow4_col0\" class=\"data row4 col0\" >0.42</td>\n",
       "                        <td id=\"T_b9376b80_c8ff_11ea_9c46_3065ec9f88barow4_col1\" class=\"data row4 col1\" >-0.52</td>\n",
       "                        <td id=\"T_b9376b80_c8ff_11ea_9c46_3065ec9f88barow4_col2\" class=\"data row4 col2\" >0.76</td>\n",
       "                        <td id=\"T_b9376b80_c8ff_11ea_9c46_3065ec9f88barow4_col3\" class=\"data row4 col3\" >0.09</td>\n",
       "                        <td id=\"T_b9376b80_c8ff_11ea_9c46_3065ec9f88barow4_col4\" class=\"data row4 col4\" >1.00</td>\n",
       "                        <td id=\"T_b9376b80_c8ff_11ea_9c46_3065ec9f88barow4_col5\" class=\"data row4 col5\" >-0.30</td>\n",
       "                        <td id=\"T_b9376b80_c8ff_11ea_9c46_3065ec9f88barow4_col6\" class=\"data row4 col6\" >0.73</td>\n",
       "                        <td id=\"T_b9376b80_c8ff_11ea_9c46_3065ec9f88barow4_col7\" class=\"data row4 col7\" >-0.77</td>\n",
       "                        <td id=\"T_b9376b80_c8ff_11ea_9c46_3065ec9f88barow4_col8\" class=\"data row4 col8\" >0.61</td>\n",
       "                        <td id=\"T_b9376b80_c8ff_11ea_9c46_3065ec9f88barow4_col9\" class=\"data row4 col9\" >0.67</td>\n",
       "                        <td id=\"T_b9376b80_c8ff_11ea_9c46_3065ec9f88barow4_col10\" class=\"data row4 col10\" >0.19</td>\n",
       "                        <td id=\"T_b9376b80_c8ff_11ea_9c46_3065ec9f88barow4_col11\" class=\"data row4 col11\" >-0.38</td>\n",
       "                        <td id=\"T_b9376b80_c8ff_11ea_9c46_3065ec9f88barow4_col12\" class=\"data row4 col12\" >0.59</td>\n",
       "                        <td id=\"T_b9376b80_c8ff_11ea_9c46_3065ec9f88barow4_col13\" class=\"data row4 col13\" >-0.43</td>\n",
       "            </tr>\n",
       "            <tr>\n",
       "                        <th id=\"T_b9376b80_c8ff_11ea_9c46_3065ec9f88balevel0_row5\" class=\"row_heading level0 row5\" >RM</th>\n",
       "                        <td id=\"T_b9376b80_c8ff_11ea_9c46_3065ec9f88barow5_col0\" class=\"data row5 col0\" >-0.22</td>\n",
       "                        <td id=\"T_b9376b80_c8ff_11ea_9c46_3065ec9f88barow5_col1\" class=\"data row5 col1\" >0.31</td>\n",
       "                        <td id=\"T_b9376b80_c8ff_11ea_9c46_3065ec9f88barow5_col2\" class=\"data row5 col2\" >-0.39</td>\n",
       "                        <td id=\"T_b9376b80_c8ff_11ea_9c46_3065ec9f88barow5_col3\" class=\"data row5 col3\" >0.09</td>\n",
       "                        <td id=\"T_b9376b80_c8ff_11ea_9c46_3065ec9f88barow5_col4\" class=\"data row5 col4\" >-0.30</td>\n",
       "                        <td id=\"T_b9376b80_c8ff_11ea_9c46_3065ec9f88barow5_col5\" class=\"data row5 col5\" >1.00</td>\n",
       "                        <td id=\"T_b9376b80_c8ff_11ea_9c46_3065ec9f88barow5_col6\" class=\"data row5 col6\" >-0.24</td>\n",
       "                        <td id=\"T_b9376b80_c8ff_11ea_9c46_3065ec9f88barow5_col7\" class=\"data row5 col7\" >0.21</td>\n",
       "                        <td id=\"T_b9376b80_c8ff_11ea_9c46_3065ec9f88barow5_col8\" class=\"data row5 col8\" >-0.21</td>\n",
       "                        <td id=\"T_b9376b80_c8ff_11ea_9c46_3065ec9f88barow5_col9\" class=\"data row5 col9\" >-0.29</td>\n",
       "                        <td id=\"T_b9376b80_c8ff_11ea_9c46_3065ec9f88barow5_col10\" class=\"data row5 col10\" >-0.36</td>\n",
       "                        <td id=\"T_b9376b80_c8ff_11ea_9c46_3065ec9f88barow5_col11\" class=\"data row5 col11\" >0.13</td>\n",
       "                        <td id=\"T_b9376b80_c8ff_11ea_9c46_3065ec9f88barow5_col12\" class=\"data row5 col12\" >-0.61</td>\n",
       "                        <td id=\"T_b9376b80_c8ff_11ea_9c46_3065ec9f88barow5_col13\" class=\"data row5 col13\" >0.70</td>\n",
       "            </tr>\n",
       "            <tr>\n",
       "                        <th id=\"T_b9376b80_c8ff_11ea_9c46_3065ec9f88balevel0_row6\" class=\"row_heading level0 row6\" >AGE</th>\n",
       "                        <td id=\"T_b9376b80_c8ff_11ea_9c46_3065ec9f88barow6_col0\" class=\"data row6 col0\" >0.35</td>\n",
       "                        <td id=\"T_b9376b80_c8ff_11ea_9c46_3065ec9f88barow6_col1\" class=\"data row6 col1\" >-0.57</td>\n",
       "                        <td id=\"T_b9376b80_c8ff_11ea_9c46_3065ec9f88barow6_col2\" class=\"data row6 col2\" >0.64</td>\n",
       "                        <td id=\"T_b9376b80_c8ff_11ea_9c46_3065ec9f88barow6_col3\" class=\"data row6 col3\" >0.09</td>\n",
       "                        <td id=\"T_b9376b80_c8ff_11ea_9c46_3065ec9f88barow6_col4\" class=\"data row6 col4\" >0.73</td>\n",
       "                        <td id=\"T_b9376b80_c8ff_11ea_9c46_3065ec9f88barow6_col5\" class=\"data row6 col5\" >-0.24</td>\n",
       "                        <td id=\"T_b9376b80_c8ff_11ea_9c46_3065ec9f88barow6_col6\" class=\"data row6 col6\" >1.00</td>\n",
       "                        <td id=\"T_b9376b80_c8ff_11ea_9c46_3065ec9f88barow6_col7\" class=\"data row6 col7\" >-0.75</td>\n",
       "                        <td id=\"T_b9376b80_c8ff_11ea_9c46_3065ec9f88barow6_col8\" class=\"data row6 col8\" >0.46</td>\n",
       "                        <td id=\"T_b9376b80_c8ff_11ea_9c46_3065ec9f88barow6_col9\" class=\"data row6 col9\" >0.51</td>\n",
       "                        <td id=\"T_b9376b80_c8ff_11ea_9c46_3065ec9f88barow6_col10\" class=\"data row6 col10\" >0.26</td>\n",
       "                        <td id=\"T_b9376b80_c8ff_11ea_9c46_3065ec9f88barow6_col11\" class=\"data row6 col11\" >-0.27</td>\n",
       "                        <td id=\"T_b9376b80_c8ff_11ea_9c46_3065ec9f88barow6_col12\" class=\"data row6 col12\" >0.60</td>\n",
       "                        <td id=\"T_b9376b80_c8ff_11ea_9c46_3065ec9f88barow6_col13\" class=\"data row6 col13\" >-0.38</td>\n",
       "            </tr>\n",
       "            <tr>\n",
       "                        <th id=\"T_b9376b80_c8ff_11ea_9c46_3065ec9f88balevel0_row7\" class=\"row_heading level0 row7\" >DIS</th>\n",
       "                        <td id=\"T_b9376b80_c8ff_11ea_9c46_3065ec9f88barow7_col0\" class=\"data row7 col0\" >-0.38</td>\n",
       "                        <td id=\"T_b9376b80_c8ff_11ea_9c46_3065ec9f88barow7_col1\" class=\"data row7 col1\" >0.66</td>\n",
       "                        <td id=\"T_b9376b80_c8ff_11ea_9c46_3065ec9f88barow7_col2\" class=\"data row7 col2\" >-0.71</td>\n",
       "                        <td id=\"T_b9376b80_c8ff_11ea_9c46_3065ec9f88barow7_col3\" class=\"data row7 col3\" >-0.10</td>\n",
       "                        <td id=\"T_b9376b80_c8ff_11ea_9c46_3065ec9f88barow7_col4\" class=\"data row7 col4\" >-0.77</td>\n",
       "                        <td id=\"T_b9376b80_c8ff_11ea_9c46_3065ec9f88barow7_col5\" class=\"data row7 col5\" >0.21</td>\n",
       "                        <td id=\"T_b9376b80_c8ff_11ea_9c46_3065ec9f88barow7_col6\" class=\"data row7 col6\" >-0.75</td>\n",
       "                        <td id=\"T_b9376b80_c8ff_11ea_9c46_3065ec9f88barow7_col7\" class=\"data row7 col7\" >1.00</td>\n",
       "                        <td id=\"T_b9376b80_c8ff_11ea_9c46_3065ec9f88barow7_col8\" class=\"data row7 col8\" >-0.49</td>\n",
       "                        <td id=\"T_b9376b80_c8ff_11ea_9c46_3065ec9f88barow7_col9\" class=\"data row7 col9\" >-0.53</td>\n",
       "                        <td id=\"T_b9376b80_c8ff_11ea_9c46_3065ec9f88barow7_col10\" class=\"data row7 col10\" >-0.23</td>\n",
       "                        <td id=\"T_b9376b80_c8ff_11ea_9c46_3065ec9f88barow7_col11\" class=\"data row7 col11\" >0.29</td>\n",
       "                        <td id=\"T_b9376b80_c8ff_11ea_9c46_3065ec9f88barow7_col12\" class=\"data row7 col12\" >-0.50</td>\n",
       "                        <td id=\"T_b9376b80_c8ff_11ea_9c46_3065ec9f88barow7_col13\" class=\"data row7 col13\" >0.25</td>\n",
       "            </tr>\n",
       "            <tr>\n",
       "                        <th id=\"T_b9376b80_c8ff_11ea_9c46_3065ec9f88balevel0_row8\" class=\"row_heading level0 row8\" >RAD</th>\n",
       "                        <td id=\"T_b9376b80_c8ff_11ea_9c46_3065ec9f88barow8_col0\" class=\"data row8 col0\" >0.63</td>\n",
       "                        <td id=\"T_b9376b80_c8ff_11ea_9c46_3065ec9f88barow8_col1\" class=\"data row8 col1\" >-0.31</td>\n",
       "                        <td id=\"T_b9376b80_c8ff_11ea_9c46_3065ec9f88barow8_col2\" class=\"data row8 col2\" >0.60</td>\n",
       "                        <td id=\"T_b9376b80_c8ff_11ea_9c46_3065ec9f88barow8_col3\" class=\"data row8 col3\" >-0.01</td>\n",
       "                        <td id=\"T_b9376b80_c8ff_11ea_9c46_3065ec9f88barow8_col4\" class=\"data row8 col4\" >0.61</td>\n",
       "                        <td id=\"T_b9376b80_c8ff_11ea_9c46_3065ec9f88barow8_col5\" class=\"data row8 col5\" >-0.21</td>\n",
       "                        <td id=\"T_b9376b80_c8ff_11ea_9c46_3065ec9f88barow8_col6\" class=\"data row8 col6\" >0.46</td>\n",
       "                        <td id=\"T_b9376b80_c8ff_11ea_9c46_3065ec9f88barow8_col7\" class=\"data row8 col7\" >-0.49</td>\n",
       "                        <td id=\"T_b9376b80_c8ff_11ea_9c46_3065ec9f88barow8_col8\" class=\"data row8 col8\" >1.00</td>\n",
       "                        <td id=\"T_b9376b80_c8ff_11ea_9c46_3065ec9f88barow8_col9\" class=\"data row8 col9\" >0.91</td>\n",
       "                        <td id=\"T_b9376b80_c8ff_11ea_9c46_3065ec9f88barow8_col10\" class=\"data row8 col10\" >0.46</td>\n",
       "                        <td id=\"T_b9376b80_c8ff_11ea_9c46_3065ec9f88barow8_col11\" class=\"data row8 col11\" >-0.44</td>\n",
       "                        <td id=\"T_b9376b80_c8ff_11ea_9c46_3065ec9f88barow8_col12\" class=\"data row8 col12\" >0.49</td>\n",
       "                        <td id=\"T_b9376b80_c8ff_11ea_9c46_3065ec9f88barow8_col13\" class=\"data row8 col13\" >-0.38</td>\n",
       "            </tr>\n",
       "            <tr>\n",
       "                        <th id=\"T_b9376b80_c8ff_11ea_9c46_3065ec9f88balevel0_row9\" class=\"row_heading level0 row9\" >TAX</th>\n",
       "                        <td id=\"T_b9376b80_c8ff_11ea_9c46_3065ec9f88barow9_col0\" class=\"data row9 col0\" >0.58</td>\n",
       "                        <td id=\"T_b9376b80_c8ff_11ea_9c46_3065ec9f88barow9_col1\" class=\"data row9 col1\" >-0.31</td>\n",
       "                        <td id=\"T_b9376b80_c8ff_11ea_9c46_3065ec9f88barow9_col2\" class=\"data row9 col2\" >0.72</td>\n",
       "                        <td id=\"T_b9376b80_c8ff_11ea_9c46_3065ec9f88barow9_col3\" class=\"data row9 col3\" >-0.04</td>\n",
       "                        <td id=\"T_b9376b80_c8ff_11ea_9c46_3065ec9f88barow9_col4\" class=\"data row9 col4\" >0.67</td>\n",
       "                        <td id=\"T_b9376b80_c8ff_11ea_9c46_3065ec9f88barow9_col5\" class=\"data row9 col5\" >-0.29</td>\n",
       "                        <td id=\"T_b9376b80_c8ff_11ea_9c46_3065ec9f88barow9_col6\" class=\"data row9 col6\" >0.51</td>\n",
       "                        <td id=\"T_b9376b80_c8ff_11ea_9c46_3065ec9f88barow9_col7\" class=\"data row9 col7\" >-0.53</td>\n",
       "                        <td id=\"T_b9376b80_c8ff_11ea_9c46_3065ec9f88barow9_col8\" class=\"data row9 col8\" >0.91</td>\n",
       "                        <td id=\"T_b9376b80_c8ff_11ea_9c46_3065ec9f88barow9_col9\" class=\"data row9 col9\" >1.00</td>\n",
       "                        <td id=\"T_b9376b80_c8ff_11ea_9c46_3065ec9f88barow9_col10\" class=\"data row9 col10\" >0.46</td>\n",
       "                        <td id=\"T_b9376b80_c8ff_11ea_9c46_3065ec9f88barow9_col11\" class=\"data row9 col11\" >-0.44</td>\n",
       "                        <td id=\"T_b9376b80_c8ff_11ea_9c46_3065ec9f88barow9_col12\" class=\"data row9 col12\" >0.54</td>\n",
       "                        <td id=\"T_b9376b80_c8ff_11ea_9c46_3065ec9f88barow9_col13\" class=\"data row9 col13\" >-0.47</td>\n",
       "            </tr>\n",
       "            <tr>\n",
       "                        <th id=\"T_b9376b80_c8ff_11ea_9c46_3065ec9f88balevel0_row10\" class=\"row_heading level0 row10\" >PTRATIO</th>\n",
       "                        <td id=\"T_b9376b80_c8ff_11ea_9c46_3065ec9f88barow10_col0\" class=\"data row10 col0\" >0.29</td>\n",
       "                        <td id=\"T_b9376b80_c8ff_11ea_9c46_3065ec9f88barow10_col1\" class=\"data row10 col1\" >-0.39</td>\n",
       "                        <td id=\"T_b9376b80_c8ff_11ea_9c46_3065ec9f88barow10_col2\" class=\"data row10 col2\" >0.38</td>\n",
       "                        <td id=\"T_b9376b80_c8ff_11ea_9c46_3065ec9f88barow10_col3\" class=\"data row10 col3\" >-0.12</td>\n",
       "                        <td id=\"T_b9376b80_c8ff_11ea_9c46_3065ec9f88barow10_col4\" class=\"data row10 col4\" >0.19</td>\n",
       "                        <td id=\"T_b9376b80_c8ff_11ea_9c46_3065ec9f88barow10_col5\" class=\"data row10 col5\" >-0.36</td>\n",
       "                        <td id=\"T_b9376b80_c8ff_11ea_9c46_3065ec9f88barow10_col6\" class=\"data row10 col6\" >0.26</td>\n",
       "                        <td id=\"T_b9376b80_c8ff_11ea_9c46_3065ec9f88barow10_col7\" class=\"data row10 col7\" >-0.23</td>\n",
       "                        <td id=\"T_b9376b80_c8ff_11ea_9c46_3065ec9f88barow10_col8\" class=\"data row10 col8\" >0.46</td>\n",
       "                        <td id=\"T_b9376b80_c8ff_11ea_9c46_3065ec9f88barow10_col9\" class=\"data row10 col9\" >0.46</td>\n",
       "                        <td id=\"T_b9376b80_c8ff_11ea_9c46_3065ec9f88barow10_col10\" class=\"data row10 col10\" >1.00</td>\n",
       "                        <td id=\"T_b9376b80_c8ff_11ea_9c46_3065ec9f88barow10_col11\" class=\"data row10 col11\" >-0.18</td>\n",
       "                        <td id=\"T_b9376b80_c8ff_11ea_9c46_3065ec9f88barow10_col12\" class=\"data row10 col12\" >0.37</td>\n",
       "                        <td id=\"T_b9376b80_c8ff_11ea_9c46_3065ec9f88barow10_col13\" class=\"data row10 col13\" >-0.51</td>\n",
       "            </tr>\n",
       "            <tr>\n",
       "                        <th id=\"T_b9376b80_c8ff_11ea_9c46_3065ec9f88balevel0_row11\" class=\"row_heading level0 row11\" >B</th>\n",
       "                        <td id=\"T_b9376b80_c8ff_11ea_9c46_3065ec9f88barow11_col0\" class=\"data row11 col0\" >-0.39</td>\n",
       "                        <td id=\"T_b9376b80_c8ff_11ea_9c46_3065ec9f88barow11_col1\" class=\"data row11 col1\" >0.18</td>\n",
       "                        <td id=\"T_b9376b80_c8ff_11ea_9c46_3065ec9f88barow11_col2\" class=\"data row11 col2\" >-0.36</td>\n",
       "                        <td id=\"T_b9376b80_c8ff_11ea_9c46_3065ec9f88barow11_col3\" class=\"data row11 col3\" >0.05</td>\n",
       "                        <td id=\"T_b9376b80_c8ff_11ea_9c46_3065ec9f88barow11_col4\" class=\"data row11 col4\" >-0.38</td>\n",
       "                        <td id=\"T_b9376b80_c8ff_11ea_9c46_3065ec9f88barow11_col5\" class=\"data row11 col5\" >0.13</td>\n",
       "                        <td id=\"T_b9376b80_c8ff_11ea_9c46_3065ec9f88barow11_col6\" class=\"data row11 col6\" >-0.27</td>\n",
       "                        <td id=\"T_b9376b80_c8ff_11ea_9c46_3065ec9f88barow11_col7\" class=\"data row11 col7\" >0.29</td>\n",
       "                        <td id=\"T_b9376b80_c8ff_11ea_9c46_3065ec9f88barow11_col8\" class=\"data row11 col8\" >-0.44</td>\n",
       "                        <td id=\"T_b9376b80_c8ff_11ea_9c46_3065ec9f88barow11_col9\" class=\"data row11 col9\" >-0.44</td>\n",
       "                        <td id=\"T_b9376b80_c8ff_11ea_9c46_3065ec9f88barow11_col10\" class=\"data row11 col10\" >-0.18</td>\n",
       "                        <td id=\"T_b9376b80_c8ff_11ea_9c46_3065ec9f88barow11_col11\" class=\"data row11 col11\" >1.00</td>\n",
       "                        <td id=\"T_b9376b80_c8ff_11ea_9c46_3065ec9f88barow11_col12\" class=\"data row11 col12\" >-0.37</td>\n",
       "                        <td id=\"T_b9376b80_c8ff_11ea_9c46_3065ec9f88barow11_col13\" class=\"data row11 col13\" >0.33</td>\n",
       "            </tr>\n",
       "            <tr>\n",
       "                        <th id=\"T_b9376b80_c8ff_11ea_9c46_3065ec9f88balevel0_row12\" class=\"row_heading level0 row12\" >LSTAT</th>\n",
       "                        <td id=\"T_b9376b80_c8ff_11ea_9c46_3065ec9f88barow12_col0\" class=\"data row12 col0\" >0.46</td>\n",
       "                        <td id=\"T_b9376b80_c8ff_11ea_9c46_3065ec9f88barow12_col1\" class=\"data row12 col1\" >-0.41</td>\n",
       "                        <td id=\"T_b9376b80_c8ff_11ea_9c46_3065ec9f88barow12_col2\" class=\"data row12 col2\" >0.60</td>\n",
       "                        <td id=\"T_b9376b80_c8ff_11ea_9c46_3065ec9f88barow12_col3\" class=\"data row12 col3\" >-0.05</td>\n",
       "                        <td id=\"T_b9376b80_c8ff_11ea_9c46_3065ec9f88barow12_col4\" class=\"data row12 col4\" >0.59</td>\n",
       "                        <td id=\"T_b9376b80_c8ff_11ea_9c46_3065ec9f88barow12_col5\" class=\"data row12 col5\" >-0.61</td>\n",
       "                        <td id=\"T_b9376b80_c8ff_11ea_9c46_3065ec9f88barow12_col6\" class=\"data row12 col6\" >0.60</td>\n",
       "                        <td id=\"T_b9376b80_c8ff_11ea_9c46_3065ec9f88barow12_col7\" class=\"data row12 col7\" >-0.50</td>\n",
       "                        <td id=\"T_b9376b80_c8ff_11ea_9c46_3065ec9f88barow12_col8\" class=\"data row12 col8\" >0.49</td>\n",
       "                        <td id=\"T_b9376b80_c8ff_11ea_9c46_3065ec9f88barow12_col9\" class=\"data row12 col9\" >0.54</td>\n",
       "                        <td id=\"T_b9376b80_c8ff_11ea_9c46_3065ec9f88barow12_col10\" class=\"data row12 col10\" >0.37</td>\n",
       "                        <td id=\"T_b9376b80_c8ff_11ea_9c46_3065ec9f88barow12_col11\" class=\"data row12 col11\" >-0.37</td>\n",
       "                        <td id=\"T_b9376b80_c8ff_11ea_9c46_3065ec9f88barow12_col12\" class=\"data row12 col12\" >1.00</td>\n",
       "                        <td id=\"T_b9376b80_c8ff_11ea_9c46_3065ec9f88barow12_col13\" class=\"data row12 col13\" >-0.74</td>\n",
       "            </tr>\n",
       "            <tr>\n",
       "                        <th id=\"T_b9376b80_c8ff_11ea_9c46_3065ec9f88balevel0_row13\" class=\"row_heading level0 row13\" >MEDV</th>\n",
       "                        <td id=\"T_b9376b80_c8ff_11ea_9c46_3065ec9f88barow13_col0\" class=\"data row13 col0\" >-0.39</td>\n",
       "                        <td id=\"T_b9376b80_c8ff_11ea_9c46_3065ec9f88barow13_col1\" class=\"data row13 col1\" >0.36</td>\n",
       "                        <td id=\"T_b9376b80_c8ff_11ea_9c46_3065ec9f88barow13_col2\" class=\"data row13 col2\" >-0.48</td>\n",
       "                        <td id=\"T_b9376b80_c8ff_11ea_9c46_3065ec9f88barow13_col3\" class=\"data row13 col3\" >0.18</td>\n",
       "                        <td id=\"T_b9376b80_c8ff_11ea_9c46_3065ec9f88barow13_col4\" class=\"data row13 col4\" >-0.43</td>\n",
       "                        <td id=\"T_b9376b80_c8ff_11ea_9c46_3065ec9f88barow13_col5\" class=\"data row13 col5\" >0.70</td>\n",
       "                        <td id=\"T_b9376b80_c8ff_11ea_9c46_3065ec9f88barow13_col6\" class=\"data row13 col6\" >-0.38</td>\n",
       "                        <td id=\"T_b9376b80_c8ff_11ea_9c46_3065ec9f88barow13_col7\" class=\"data row13 col7\" >0.25</td>\n",
       "                        <td id=\"T_b9376b80_c8ff_11ea_9c46_3065ec9f88barow13_col8\" class=\"data row13 col8\" >-0.38</td>\n",
       "                        <td id=\"T_b9376b80_c8ff_11ea_9c46_3065ec9f88barow13_col9\" class=\"data row13 col9\" >-0.47</td>\n",
       "                        <td id=\"T_b9376b80_c8ff_11ea_9c46_3065ec9f88barow13_col10\" class=\"data row13 col10\" >-0.51</td>\n",
       "                        <td id=\"T_b9376b80_c8ff_11ea_9c46_3065ec9f88barow13_col11\" class=\"data row13 col11\" >0.33</td>\n",
       "                        <td id=\"T_b9376b80_c8ff_11ea_9c46_3065ec9f88barow13_col12\" class=\"data row13 col12\" >-0.74</td>\n",
       "                        <td id=\"T_b9376b80_c8ff_11ea_9c46_3065ec9f88barow13_col13\" class=\"data row13 col13\" >1.00</td>\n",
       "            </tr>\n",
       "    </tbody></table>"
      ],
      "text/plain": [
       "<pandas.io.formats.style.Styler at 0x2222864fdc8>"
      ]
     },
     "execution_count": 84,
     "metadata": {},
     "output_type": "execute_result"
    }
   ],
   "source": [
    "data.corr().style.background_gradient(cmap='coolwarm').set_precision(2)"
   ]
  },
  {
   "cell_type": "markdown",
   "metadata": {},
   "source": [
    "Максимальную зависимоть на цену дома оказывают **количество комнат**  и **статусное положение населения** в этом районе, то есть чем больше комнат и чем **выше** статус людей (об этом говорит отрицательная корреляция) тем дороже будет цена дома."
   ]
  },
  {
   "cell_type": "markdown",
   "metadata": {
    "colab_type": "text",
    "id": "111lURJGVrbU"
   },
   "source": [
    "Написать **линейную регрессию** на два атрибута. Допустим, мы хотим предсказать цену дома (MEDV) в Бостоне, зная что цена на дом имеет линейную зависимость с атрибутом LSTAT. "
   ]
  },
  {
   "cell_type": "markdown",
   "metadata": {
    "colab_type": "text",
    "id": "Naz_Byg1WKhm"
   },
   "source": [
    "\n",
    "\n",
    "1.   Разделить данные на 80% тренировочных, 20% тестовых\n",
    "2.   Составить модель линейной регрессии\n",
    "3.   Посчитать ошибку модели на тестовых данных\n",
    "4.   Сделать точечный график данных и полученной прямой линейной регрессии\n",
    "\n"
   ]
  },
  {
   "cell_type": "code",
   "execution_count": 110,
   "metadata": {},
   "outputs": [],
   "source": [
    "medv = np.array(data.MEDV).reshape(-1,1)\n",
    "lstat = np.array(data.LSTAT).reshape(-1,1)"
   ]
  },
  {
   "cell_type": "code",
   "execution_count": 111,
   "metadata": {},
   "outputs": [],
   "source": [
    "from sklearn.linear_model import LinearRegression\n",
    "model = LinearRegression()"
   ]
  },
  {
   "cell_type": "code",
   "execution_count": 112,
   "metadata": {},
   "outputs": [],
   "source": [
    "from sklearn.model_selection import train_test_split\n",
    "\n",
    "X_train, X_test, y_train, y_test = train_test_split(\n",
    "    medv,\n",
    "    lstat,\n",
    "    test_size = 0.2\n",
    ")"
   ]
  },
  {
   "cell_type": "code",
   "execution_count": 113,
   "metadata": {},
   "outputs": [
    {
     "data": {
      "text/plain": [
       "LinearRegression(copy_X=True, fit_intercept=True, n_jobs=None, normalize=False)"
      ]
     },
     "execution_count": 113,
     "metadata": {},
     "output_type": "execute_result"
    }
   ],
   "source": [
    "model.fit(X_train, y_train)"
   ]
  },
  {
   "cell_type": "code",
   "execution_count": 114,
   "metadata": {},
   "outputs": [],
   "source": [
    "predicted_y = model.predict(X_test)"
   ]
  },
  {
   "cell_type": "code",
   "execution_count": 115,
   "metadata": {},
   "outputs": [
    {
     "name": "stdout",
     "output_type": "stream",
     "text": [
      "21.098085928924892\n",
      "3.7841187385072828\n"
     ]
    }
   ],
   "source": [
    "from sklearn.metrics import mean_squared_error, mean_absolute_error\n",
    "\n",
    "print(mean_squared_error(predicted_y, y_test))\n",
    "print(mean_absolute_error(predicted_y, y_test))"
   ]
  },
  {
   "cell_type": "code",
   "execution_count": 134,
   "metadata": {
    "scrolled": true
   },
   "outputs": [
    {
     "data": {
      "image/png": "[encoded data removed]",
      "text/plain": [
       "<Figure size 432x288 with 1 Axes>"
      ]
     },
     "metadata": {
      "needs_background": "light"
     },
     "output_type": "display_data"
    }
   ],
   "source": [
    "plt.xlabel('MEDV')\n",
    "plt.ylabel('LSTAT')\n",
    "plt.title('Линейная регрессия от одной переменной')\n",
    "# Построим прямую для регрессии\n",
    "x = np.linspace(0, 200)\n",
    "# Посчитаем предсказанные значения\n",
    "# y = kx + b\n",
    "# k = model.coef_\n",
    "# b = model.intercept_\n",
    "y = model.coef_*x + model.intercept_\n",
    "y = np.transpose(y)\n",
    "plt.plot(x,y)\n",
    "plt.plot(X_train, y_train, 'r.')\n",
    "plt.plot(X_test, y_test, 'go')\n",
    "plt.xlim(0,55)\n",
    "plt.ylim(-10,50)\n",
    "plt.legend(['Прямая линейной регрессии', 'Тренировочные данные', 'Тестовые данные'])\n",
    "plt.show()"
   ]
  },
  {
   "cell_type": "markdown",
   "metadata": {},
   "source": [
    "Убывающая линия регресии и точность модели говорит о том, что чем выше цена дома, тем меньше людей с низким статусом."
   ]
  },
  {
   "cell_type": "markdown",
   "metadata": {
    "colab_type": "text",
    "id": "zqiJHPz7FUT2"
   },
   "source": [
    "Загрузить таблицу Happiness report. Посчитать матрицу ковариаций попарно. "
   ]
  },
  {
   "cell_type": "code",
   "execution_count": 135,
   "metadata": {
    "colab": {
     "base_uri": "https://localhost:8080/",
     "height": 238
    },
    "colab_type": "code",
    "id": "4FVMs-hUiv4i",
    "outputId": "4f8bb858-e745-4832-e05a-a40c48f8fa8a"
   },
   "outputs": [
    {
     "data": {
      "text/html": [
       "<div>\n",
       "<style scoped>\n",
       "    .dataframe tbody tr th:only-of-type {\n",
       "        vertical-align: middle;\n",
       "    }\n",
       "\n",
       "    .dataframe tbody tr th {\n",
       "        vertical-align: top;\n",
       "    }\n",
       "\n",
       "    .dataframe thead th {\n",
       "        text-align: right;\n",
       "    }\n",
       "</style>\n",
       "<table border=\"1\" class=\"dataframe\">\n",
       "  <thead>\n",
       "    <tr style=\"text-align: right;\">\n",
       "      <th></th>\n",
       "      <th>Country (region)</th>\n",
       "      <th>Ladder</th>\n",
       "      <th>SD of Ladder</th>\n",
       "      <th>Positive affect</th>\n",
       "      <th>Negative affect</th>\n",
       "      <th>Social support</th>\n",
       "      <th>Freedom</th>\n",
       "      <th>Corruption</th>\n",
       "      <th>Generosity</th>\n",
       "      <th>Log of GDP\\nper capita</th>\n",
       "      <th>Healthy life\\nexpectancy</th>\n",
       "    </tr>\n",
       "  </thead>\n",
       "  <tbody>\n",
       "    <tr>\n",
       "      <th>0</th>\n",
       "      <td>Finland</td>\n",
       "      <td>1</td>\n",
       "      <td>4</td>\n",
       "      <td>41.0</td>\n",
       "      <td>10.0</td>\n",
       "      <td>2.0</td>\n",
       "      <td>5.0</td>\n",
       "      <td>4.0</td>\n",
       "      <td>47.0</td>\n",
       "      <td>22.0</td>\n",
       "      <td>27.0</td>\n",
       "    </tr>\n",
       "    <tr>\n",
       "      <th>1</th>\n",
       "      <td>Denmark</td>\n",
       "      <td>2</td>\n",
       "      <td>13</td>\n",
       "      <td>24.0</td>\n",
       "      <td>26.0</td>\n",
       "      <td>4.0</td>\n",
       "      <td>6.0</td>\n",
       "      <td>3.0</td>\n",
       "      <td>22.0</td>\n",
       "      <td>14.0</td>\n",
       "      <td>23.0</td>\n",
       "    </tr>\n",
       "    <tr>\n",
       "      <th>2</th>\n",
       "      <td>Norway</td>\n",
       "      <td>3</td>\n",
       "      <td>8</td>\n",
       "      <td>16.0</td>\n",
       "      <td>29.0</td>\n",
       "      <td>3.0</td>\n",
       "      <td>3.0</td>\n",
       "      <td>8.0</td>\n",
       "      <td>11.0</td>\n",
       "      <td>7.0</td>\n",
       "      <td>12.0</td>\n",
       "    </tr>\n",
       "    <tr>\n",
       "      <th>3</th>\n",
       "      <td>Iceland</td>\n",
       "      <td>4</td>\n",
       "      <td>9</td>\n",
       "      <td>3.0</td>\n",
       "      <td>3.0</td>\n",
       "      <td>1.0</td>\n",
       "      <td>7.0</td>\n",
       "      <td>45.0</td>\n",
       "      <td>3.0</td>\n",
       "      <td>15.0</td>\n",
       "      <td>13.0</td>\n",
       "    </tr>\n",
       "    <tr>\n",
       "      <th>4</th>\n",
       "      <td>Netherlands</td>\n",
       "      <td>5</td>\n",
       "      <td>1</td>\n",
       "      <td>12.0</td>\n",
       "      <td>25.0</td>\n",
       "      <td>15.0</td>\n",
       "      <td>19.0</td>\n",
       "      <td>12.0</td>\n",
       "      <td>7.0</td>\n",
       "      <td>12.0</td>\n",
       "      <td>18.0</td>\n",
       "    </tr>\n",
       "  </tbody>\n",
       "</table>\n",
       "</div>"
      ],
      "text/plain": [
       "  Country (region)  Ladder  SD of Ladder  Positive affect  Negative affect  \\\n",
       "0          Finland       1             4             41.0             10.0   \n",
       "1          Denmark       2            13             24.0             26.0   \n",
       "2           Norway       3             8             16.0             29.0   \n",
       "3          Iceland       4             9              3.0              3.0   \n",
       "4      Netherlands       5             1             12.0             25.0   \n",
       "\n",
       "   Social support  Freedom  Corruption  Generosity  Log of GDP\\nper capita  \\\n",
       "0             2.0      5.0         4.0        47.0                    22.0   \n",
       "1             4.0      6.0         3.0        22.0                    14.0   \n",
       "2             3.0      3.0         8.0        11.0                     7.0   \n",
       "3             1.0      7.0        45.0         3.0                    15.0   \n",
       "4            15.0     19.0        12.0         7.0                    12.0   \n",
       "\n",
       "   Healthy life\\nexpectancy  \n",
       "0                      27.0  \n",
       "1                      23.0  \n",
       "2                      12.0  \n",
       "3                      13.0  \n",
       "4                      18.0  "
      ]
     },
     "execution_count": 135,
     "metadata": {},
     "output_type": "execute_result"
    }
   ],
   "source": [
    "url=\"http://yustiks.ru/dataset/world-happiness-report-2019.csv\"\n",
    "data=pd.read_csv(url)\n",
    "data.head()"
   ]
  },
  {
   "cell_type": "code",
   "execution_count": 208,
   "metadata": {},
   "outputs": [
    {
     "data": {
      "text/html": [
       "<div>\n",
       "<style scoped>\n",
       "    .dataframe tbody tr th:only-of-type {\n",
       "        vertical-align: middle;\n",
       "    }\n",
       "\n",
       "    .dataframe tbody tr th {\n",
       "        vertical-align: top;\n",
       "    }\n",
       "\n",
       "    .dataframe thead th {\n",
       "        text-align: right;\n",
       "    }\n",
       "</style>\n",
       "<table border=\"1\" class=\"dataframe\">\n",
       "  <thead>\n",
       "    <tr style=\"text-align: right;\">\n",
       "      <th></th>\n",
       "      <th>Ladder</th>\n",
       "      <th>SD of Ladder</th>\n",
       "      <th>Positive affect</th>\n",
       "      <th>Negative affect</th>\n",
       "      <th>Social support</th>\n",
       "      <th>Freedom</th>\n",
       "      <th>Corruption</th>\n",
       "      <th>Generosity</th>\n",
       "      <th>Log of GDP\\nper capita</th>\n",
       "      <th>Healthy life\\nexpectancy</th>\n",
       "    </tr>\n",
       "  </thead>\n",
       "  <tbody>\n",
       "    <tr>\n",
       "      <th>Ladder</th>\n",
       "      <td>2041.00</td>\n",
       "      <td>1100.84</td>\n",
       "      <td>995.93</td>\n",
       "      <td>1061.21</td>\n",
       "      <td>1657.43</td>\n",
       "      <td>1108.09</td>\n",
       "      <td>370.87</td>\n",
       "      <td>1008.95</td>\n",
       "      <td>1615.00</td>\n",
       "      <td>1613.37</td>\n",
       "    </tr>\n",
       "    <tr>\n",
       "      <th>SD of Ladder</th>\n",
       "      <td>1100.84</td>\n",
       "      <td>2041.00</td>\n",
       "      <td>173.69</td>\n",
       "      <td>1259.81</td>\n",
       "      <td>1219.52</td>\n",
       "      <td>512.36</td>\n",
       "      <td>506.90</td>\n",
       "      <td>797.78</td>\n",
       "      <td>1254.53</td>\n",
       "      <td>1208.03</td>\n",
       "    </tr>\n",
       "    <tr>\n",
       "      <th>Positive affect</th>\n",
       "      <td>995.93</td>\n",
       "      <td>173.69</td>\n",
       "      <td>2015.00</td>\n",
       "      <td>785.24</td>\n",
       "      <td>778.33</td>\n",
       "      <td>1373.77</td>\n",
       "      <td>405.29</td>\n",
       "      <td>715.08</td>\n",
       "      <td>586.12</td>\n",
       "      <td>647.91</td>\n",
       "    </tr>\n",
       "    <tr>\n",
       "      <th>Negative affect</th>\n",
       "      <td>1061.21</td>\n",
       "      <td>1259.81</td>\n",
       "      <td>785.24</td>\n",
       "      <td>2015.00</td>\n",
       "      <td>1253.10</td>\n",
       "      <td>866.94</td>\n",
       "      <td>309.23</td>\n",
       "      <td>681.53</td>\n",
       "      <td>1050.93</td>\n",
       "      <td>944.80</td>\n",
       "    </tr>\n",
       "    <tr>\n",
       "      <th>Social support</th>\n",
       "      <td>1657.43</td>\n",
       "      <td>1219.52</td>\n",
       "      <td>778.33</td>\n",
       "      <td>1253.10</td>\n",
       "      <td>2015.00</td>\n",
       "      <td>904.54</td>\n",
       "      <td>230.74</td>\n",
       "      <td>891.50</td>\n",
       "      <td>1509.29</td>\n",
       "      <td>1471.92</td>\n",
       "    </tr>\n",
       "    <tr>\n",
       "      <th>Freedom</th>\n",
       "      <td>1108.09</td>\n",
       "      <td>512.36</td>\n",
       "      <td>1373.77</td>\n",
       "      <td>866.94</td>\n",
       "      <td>904.54</td>\n",
       "      <td>2015.00</td>\n",
       "      <td>736.27</td>\n",
       "      <td>987.33</td>\n",
       "      <td>800.93</td>\n",
       "      <td>821.39</td>\n",
       "    </tr>\n",
       "    <tr>\n",
       "      <th>Corruption</th>\n",
       "      <td>370.87</td>\n",
       "      <td>506.90</td>\n",
       "      <td>405.29</td>\n",
       "      <td>309.23</td>\n",
       "      <td>230.74</td>\n",
       "      <td>736.27</td>\n",
       "      <td>1837.67</td>\n",
       "      <td>511.33</td>\n",
       "      <td>368.29</td>\n",
       "      <td>233.04</td>\n",
       "    </tr>\n",
       "    <tr>\n",
       "      <th>Generosity</th>\n",
       "      <td>1008.95</td>\n",
       "      <td>797.78</td>\n",
       "      <td>715.08</td>\n",
       "      <td>681.53</td>\n",
       "      <td>891.50</td>\n",
       "      <td>987.33</td>\n",
       "      <td>511.33</td>\n",
       "      <td>2015.00</td>\n",
       "      <td>949.02</td>\n",
       "      <td>836.34</td>\n",
       "    </tr>\n",
       "    <tr>\n",
       "      <th>Log of GDP\\nper capita</th>\n",
       "      <td>1615.00</td>\n",
       "      <td>1254.53</td>\n",
       "      <td>586.12</td>\n",
       "      <td>1050.93</td>\n",
       "      <td>1509.29</td>\n",
       "      <td>800.93</td>\n",
       "      <td>368.29</td>\n",
       "      <td>949.02</td>\n",
       "      <td>1938.00</td>\n",
       "      <td>1614.03</td>\n",
       "    </tr>\n",
       "    <tr>\n",
       "      <th>Healthy life\\nexpectancy</th>\n",
       "      <td>1613.37</td>\n",
       "      <td>1208.03</td>\n",
       "      <td>647.91</td>\n",
       "      <td>944.80</td>\n",
       "      <td>1471.92</td>\n",
       "      <td>821.39</td>\n",
       "      <td>233.04</td>\n",
       "      <td>836.34</td>\n",
       "      <td>1614.03</td>\n",
       "      <td>1887.50</td>\n",
       "    </tr>\n",
       "  </tbody>\n",
       "</table>\n",
       "</div>"
      ],
      "text/plain": [
       "                           Ladder  SD of Ladder  Positive affect  \\\n",
       "Ladder                    2041.00       1100.84           995.93   \n",
       "SD of Ladder              1100.84       2041.00           173.69   \n",
       "Positive affect            995.93        173.69          2015.00   \n",
       "Negative affect           1061.21       1259.81           785.24   \n",
       "Social support            1657.43       1219.52           778.33   \n",
       "Freedom                   1108.09        512.36          1373.77   \n",
       "Corruption                 370.87        506.90           405.29   \n",
       "Generosity                1008.95        797.78           715.08   \n",
       "Log of GDP\\nper capita    1615.00       1254.53           586.12   \n",
       "Healthy life\\nexpectancy  1613.37       1208.03           647.91   \n",
       "\n",
       "                          Negative affect  Social support  Freedom  \\\n",
       "Ladder                            1061.21         1657.43  1108.09   \n",
       "SD of Ladder                      1259.81         1219.52   512.36   \n",
       "Positive affect                    785.24          778.33  1373.77   \n",
       "Negative affect                   2015.00         1253.10   866.94   \n",
       "Social support                    1253.10         2015.00   904.54   \n",
       "Freedom                            866.94          904.54  2015.00   \n",
       "Corruption                         309.23          230.74   736.27   \n",
       "Generosity                         681.53          891.50   987.33   \n",
       "Log of GDP\\nper capita            1050.93         1509.29   800.93   \n",
       "Healthy life\\nexpectancy           944.80         1471.92   821.39   \n",
       "\n",
       "                          Corruption  Generosity  Log of GDP\\nper capita  \\\n",
       "Ladder                        370.87     1008.95                 1615.00   \n",
       "SD of Ladder                  506.90      797.78                 1254.53   \n",
       "Positive affect               405.29      715.08                  586.12   \n",
       "Negative affect               309.23      681.53                 1050.93   \n",
       "Social support                230.74      891.50                 1509.29   \n",
       "Freedom                       736.27      987.33                  800.93   \n",
       "Corruption                   1837.67      511.33                  368.29   \n",
       "Generosity                    511.33     2015.00                  949.02   \n",
       "Log of GDP\\nper capita        368.29      949.02                 1938.00   \n",
       "Healthy life\\nexpectancy      233.04      836.34                 1614.03   \n",
       "\n",
       "                          Healthy life\\nexpectancy  \n",
       "Ladder                                     1613.37  \n",
       "SD of Ladder                               1208.03  \n",
       "Positive affect                             647.91  \n",
       "Negative affect                             944.80  \n",
       "Social support                             1471.92  \n",
       "Freedom                                     821.39  \n",
       "Corruption                                  233.04  \n",
       "Generosity                                  836.34  \n",
       "Log of GDP\\nper capita                     1614.03  \n",
       "Healthy life\\nexpectancy                   1887.50  "
      ]
     },
     "execution_count": 208,
     "metadata": {},
     "output_type": "execute_result"
    }
   ],
   "source": [
    "np.round_(data.cov(), decimals=2)"
   ]
  },
  {
   "cell_type": "code",
   "execution_count": 171,
   "metadata": {},
   "outputs": [
    {
     "data": {
      "text/plain": [
       "0"
      ]
     },
     "execution_count": 171,
     "metadata": {},
     "output_type": "execute_result"
    }
   ],
   "source": [
    "data['Country (region)'].isnull().sum()"
   ]
  },
  {
   "cell_type": "code",
   "execution_count": 169,
   "metadata": {},
   "outputs": [
    {
     "name": "stdout",
     "output_type": "stream",
     "text": [
      "Количество отстутствующих значений:  11\n",
      "отсутствующих значений в выборке country: 0\n"
     ]
    }
   ],
   "source": [
    "print('Количество отстутствующих значений: ', len(data.isnull().sum()))\n",
    "print('отсутствующих значений в выборке country: 0')"
   ]
  },
  {
   "cell_type": "code",
   "execution_count": 163,
   "metadata": {},
   "outputs": [
    {
     "name": "stdout",
     "output_type": "stream",
     "text": [
      "Стран в выборке:  156\n"
     ]
    }
   ],
   "source": [
    "print('Стран в выборке: ',len(data['Country (region)'].unique()))"
   ]
  },
  {
   "cell_type": "code",
   "execution_count": 179,
   "metadata": {},
   "outputs": [
    {
     "data": {
      "text/html": [
       "<div>\n",
       "<style scoped>\n",
       "    .dataframe tbody tr th:only-of-type {\n",
       "        vertical-align: middle;\n",
       "    }\n",
       "\n",
       "    .dataframe tbody tr th {\n",
       "        vertical-align: top;\n",
       "    }\n",
       "\n",
       "    .dataframe thead th {\n",
       "        text-align: right;\n",
       "    }\n",
       "</style>\n",
       "<table border=\"1\" class=\"dataframe\">\n",
       "  <thead>\n",
       "    <tr style=\"text-align: right;\">\n",
       "      <th></th>\n",
       "      <th>Ladder</th>\n",
       "      <th>SD of Ladder</th>\n",
       "      <th>Positive affect</th>\n",
       "      <th>Negative affect</th>\n",
       "      <th>Social support</th>\n",
       "      <th>Freedom</th>\n",
       "      <th>Corruption</th>\n",
       "      <th>Generosity</th>\n",
       "      <th>Log of GDP\\nper capita</th>\n",
       "      <th>Healthy life\\nexpectancy</th>\n",
       "    </tr>\n",
       "  </thead>\n",
       "  <tbody>\n",
       "    <tr>\n",
       "      <th>Ladder</th>\n",
       "      <td>1.00</td>\n",
       "      <td>0.54</td>\n",
       "      <td>0.49</td>\n",
       "      <td>0.52</td>\n",
       "      <td>0.82</td>\n",
       "      <td>0.55</td>\n",
       "      <td>0.19</td>\n",
       "      <td>0.50</td>\n",
       "      <td>0.81</td>\n",
       "      <td>0.82</td>\n",
       "    </tr>\n",
       "    <tr>\n",
       "      <th>SD of Ladder</th>\n",
       "      <td>0.54</td>\n",
       "      <td>1.00</td>\n",
       "      <td>0.09</td>\n",
       "      <td>0.62</td>\n",
       "      <td>0.60</td>\n",
       "      <td>0.25</td>\n",
       "      <td>0.26</td>\n",
       "      <td>0.39</td>\n",
       "      <td>0.63</td>\n",
       "      <td>0.61</td>\n",
       "    </tr>\n",
       "    <tr>\n",
       "      <th>Positive affect</th>\n",
       "      <td>0.49</td>\n",
       "      <td>0.09</td>\n",
       "      <td>1.00</td>\n",
       "      <td>0.39</td>\n",
       "      <td>0.39</td>\n",
       "      <td>0.68</td>\n",
       "      <td>0.21</td>\n",
       "      <td>0.35</td>\n",
       "      <td>0.30</td>\n",
       "      <td>0.33</td>\n",
       "    </tr>\n",
       "    <tr>\n",
       "      <th>Negative affect</th>\n",
       "      <td>0.52</td>\n",
       "      <td>0.62</td>\n",
       "      <td>0.39</td>\n",
       "      <td>1.00</td>\n",
       "      <td>0.62</td>\n",
       "      <td>0.43</td>\n",
       "      <td>0.16</td>\n",
       "      <td>0.34</td>\n",
       "      <td>0.54</td>\n",
       "      <td>0.49</td>\n",
       "    </tr>\n",
       "    <tr>\n",
       "      <th>Social support</th>\n",
       "      <td>0.82</td>\n",
       "      <td>0.60</td>\n",
       "      <td>0.39</td>\n",
       "      <td>0.62</td>\n",
       "      <td>1.00</td>\n",
       "      <td>0.45</td>\n",
       "      <td>0.12</td>\n",
       "      <td>0.44</td>\n",
       "      <td>0.77</td>\n",
       "      <td>0.74</td>\n",
       "    </tr>\n",
       "    <tr>\n",
       "      <th>Freedom</th>\n",
       "      <td>0.55</td>\n",
       "      <td>0.25</td>\n",
       "      <td>0.68</td>\n",
       "      <td>0.43</td>\n",
       "      <td>0.45</td>\n",
       "      <td>1.00</td>\n",
       "      <td>0.38</td>\n",
       "      <td>0.49</td>\n",
       "      <td>0.41</td>\n",
       "      <td>0.42</td>\n",
       "    </tr>\n",
       "    <tr>\n",
       "      <th>Corruption</th>\n",
       "      <td>0.19</td>\n",
       "      <td>0.26</td>\n",
       "      <td>0.21</td>\n",
       "      <td>0.16</td>\n",
       "      <td>0.12</td>\n",
       "      <td>0.38</td>\n",
       "      <td>1.00</td>\n",
       "      <td>0.27</td>\n",
       "      <td>0.20</td>\n",
       "      <td>0.12</td>\n",
       "    </tr>\n",
       "    <tr>\n",
       "      <th>Generosity</th>\n",
       "      <td>0.50</td>\n",
       "      <td>0.39</td>\n",
       "      <td>0.35</td>\n",
       "      <td>0.34</td>\n",
       "      <td>0.44</td>\n",
       "      <td>0.49</td>\n",
       "      <td>0.27</td>\n",
       "      <td>1.00</td>\n",
       "      <td>0.48</td>\n",
       "      <td>0.43</td>\n",
       "    </tr>\n",
       "    <tr>\n",
       "      <th>Log of GDP\\nper capita</th>\n",
       "      <td>0.81</td>\n",
       "      <td>0.63</td>\n",
       "      <td>0.30</td>\n",
       "      <td>0.54</td>\n",
       "      <td>0.77</td>\n",
       "      <td>0.41</td>\n",
       "      <td>0.20</td>\n",
       "      <td>0.48</td>\n",
       "      <td>1.00</td>\n",
       "      <td>0.85</td>\n",
       "    </tr>\n",
       "    <tr>\n",
       "      <th>Healthy life\\nexpectancy</th>\n",
       "      <td>0.82</td>\n",
       "      <td>0.61</td>\n",
       "      <td>0.33</td>\n",
       "      <td>0.49</td>\n",
       "      <td>0.74</td>\n",
       "      <td>0.42</td>\n",
       "      <td>0.12</td>\n",
       "      <td>0.43</td>\n",
       "      <td>0.85</td>\n",
       "      <td>1.00</td>\n",
       "    </tr>\n",
       "  </tbody>\n",
       "</table>\n",
       "</div>"
      ],
      "text/plain": [
       "                          Ladder  SD of Ladder  Positive affect  \\\n",
       "Ladder                      1.00          0.54             0.49   \n",
       "SD of Ladder                0.54          1.00             0.09   \n",
       "Positive affect             0.49          0.09             1.00   \n",
       "Negative affect             0.52          0.62             0.39   \n",
       "Social support              0.82          0.60             0.39   \n",
       "Freedom                     0.55          0.25             0.68   \n",
       "Corruption                  0.19          0.26             0.21   \n",
       "Generosity                  0.50          0.39             0.35   \n",
       "Log of GDP\\nper capita      0.81          0.63             0.30   \n",
       "Healthy life\\nexpectancy    0.82          0.61             0.33   \n",
       "\n",
       "                          Negative affect  Social support  Freedom  \\\n",
       "Ladder                               0.52            0.82     0.55   \n",
       "SD of Ladder                         0.62            0.60     0.25   \n",
       "Positive affect                      0.39            0.39     0.68   \n",
       "Negative affect                      1.00            0.62     0.43   \n",
       "Social support                       0.62            1.00     0.45   \n",
       "Freedom                              0.43            0.45     1.00   \n",
       "Corruption                           0.16            0.12     0.38   \n",
       "Generosity                           0.34            0.44     0.49   \n",
       "Log of GDP\\nper capita               0.54            0.77     0.41   \n",
       "Healthy life\\nexpectancy             0.49            0.74     0.42   \n",
       "\n",
       "                          Corruption  Generosity  Log of GDP\\nper capita  \\\n",
       "Ladder                          0.19        0.50                    0.81   \n",
       "SD of Ladder                    0.26        0.39                    0.63   \n",
       "Positive affect                 0.21        0.35                    0.30   \n",
       "Negative affect                 0.16        0.34                    0.54   \n",
       "Social support                  0.12        0.44                    0.77   \n",
       "Freedom                         0.38        0.49                    0.41   \n",
       "Corruption                      1.00        0.27                    0.20   \n",
       "Generosity                      0.27        1.00                    0.48   \n",
       "Log of GDP\\nper capita          0.20        0.48                    1.00   \n",
       "Healthy life\\nexpectancy        0.12        0.43                    0.85   \n",
       "\n",
       "                          Healthy life\\nexpectancy  \n",
       "Ladder                                        0.82  \n",
       "SD of Ladder                                  0.61  \n",
       "Positive affect                               0.33  \n",
       "Negative affect                               0.49  \n",
       "Social support                                0.74  \n",
       "Freedom                                       0.42  \n",
       "Corruption                                    0.12  \n",
       "Generosity                                    0.43  \n",
       "Log of GDP\\nper capita                        0.85  \n",
       "Healthy life\\nexpectancy                      1.00  "
      ]
     },
     "execution_count": 179,
     "metadata": {},
     "output_type": "execute_result"
    }
   ],
   "source": [
    "np.round_(data.corr(), decimals=2)\n"
   ]
  },
  {
   "cell_type": "markdown",
   "metadata": {},
   "source": [
    "Удовлетворённость жизнью, социальная поддержка а также ВВП на душу населения очень сильно влияют друг на друга.\n",
    "\n",
    "Положительные эмоции показывают небольшую зависимость от показателя степени свободы \n",
    "\n"
   ]
  },
  {
   "cell_type": "markdown",
   "metadata": {
    "colab_type": "text",
    "id": "AEV-w8iDrzwl"
   },
   "source": [
    "Сколько в данной таблице отсутствующих значений? Написать ответ. Если есть отсутствующие значения в выборке country, убрать (drop)."
   ]
  },
  {
   "cell_type": "markdown",
   "metadata": {
    "colab_type": "text",
    "id": "Sa3-2X8RputT"
   },
   "source": [
    "Сколько стран в выборке? Написать ответ. "
   ]
  },
  {
   "cell_type": "markdown",
   "metadata": {
    "colab_type": "text",
    "id": "Xo3Q738TsMBV"
   },
   "source": [
    "Построить матрицу корреляций для таблицы. Какие можно сделать выводы?"
   ]
  },
  {
   "cell_type": "markdown",
   "metadata": {
    "colab_type": "text",
    "id": "bwPmjFqesXOC"
   },
   "source": [
    "# Дискретное распределение случайной величины"
   ]
  },
  {
   "cell_type": "markdown",
   "metadata": {
    "colab_type": "text",
    "id": "5xwVwFr_s11_"
   },
   "source": [
    "Напишите код для моделирования 10 подбрасываний игрального кубика. Начертите диаграму histogram. Какое это распределение?"
   ]
  },
  {
   "cell_type": "code",
   "execution_count": 196,
   "metadata": {
    "colab": {},
    "colab_type": "code",
    "id": "3EEu6ofKs0x7"
   },
   "outputs": [
    {
     "data": {
      "image/png": "[encoded data removed]",
      "text/plain": [
       "<Figure size 432x288 with 1 Axes>"
      ]
     },
     "metadata": {
      "needs_background": "light"
     },
     "output_type": "display_data"
    }
   ],
   "source": [
    "# Количество испытаний\n",
    "trials = 10\n",
    "\n",
    "# Массив значений\n",
    "values = np.random.randint(1, 7, size=trials)\n",
    "\n",
    "\n",
    "plt.xlabel('Значение')\n",
    "plt.ylabel('Количества раз')\n",
    "plt.title('Подбрасывание кубика ' + str(trials) + ' раз')\n",
    "plt.hist(x)\n",
    "plt.show()"
   ]
  },
  {
   "cell_type": "markdown",
   "metadata": {},
   "source": [
    "### НОРМАЛЬНОЕ РАСПРЕДЕЛЕНИЕ"
   ]
  },
  {
   "cell_type": "markdown",
   "metadata": {
    "colab_type": "text",
    "id": "irGnJ9bxtAor"
   },
   "source": [
    "Смоделируйте 1000 раз сумму по 100 подбрасываний. Начертите диаграму histogram. Почему график изменился? Почему можно применить центральную предельную теорему?"
   ]
  },
  {
   "cell_type": "code",
   "execution_count": 206,
   "metadata": {
    "colab": {},
    "colab_type": "code",
    "id": "v0It8sBStGcI"
   },
   "outputs": [
    {
     "data": {
      "image/png": "[encoded data removed]",
      "text/plain": [
       "<Figure size 432x288 with 1 Axes>"
      ]
     },
     "metadata": {
      "needs_background": "light"
     },
     "output_type": "display_data"
    }
   ],
   "source": [
    "number_of_randoms= 100\n",
    "number_of_sums = 1000\n",
    "X1 = np.zeros([number_of_sums])\n",
    "for i in range(number_of_sums):\n",
    "    # суммируем все элементы равномерных выборок\n",
    "    X1[i] = np.sum(np.random.rand(number_of_randoms))/number_of_randoms\n",
    "plt.hist(X1, 50)\n",
    "plt.xlabel('Значение в кубике')\n",
    "plt.ylabel('Количество выпадений в каждом кубике')\n",
    "plt.show()"
   ]
  },
  {
   "cell_type": "markdown",
   "metadata": {},
   "source": [
    "Суммы элементов элементов выборок стремится к нормальному распределению."
   ]
  },
  {
   "cell_type": "code",
   "execution_count": null,
   "metadata": {},
   "outputs": [],
   "source": []
  }
 ],
 "metadata": {
  "colab": {
   "include_colab_link": true,
   "name": "dz_2.ipynb",
   "provenance": []
  },
  "kernelspec": {
   "display_name": "Python 3",
   "language": "python",
   "name": "python3"
  },
  "language_info": {
   "codemirror_mode": {
    "name": "ipython",
    "version": 3
   },
   "file_extension": ".py",
   "mimetype": "text/x-python",
   "name": "python",
   "nbconvert_exporter": "python",
   "pygments_lexer": "ipython3",
   "version": "3.7.6"
  }
 },
 "nbformat": 4,
 "nbformat_minor": 1
}
