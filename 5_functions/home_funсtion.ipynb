{
 "cells": [
  {
   "cell_type": "markdown",
   "metadata": {},
   "source": [
    "Вы работаете секретарем и вам постоянно приходят различные документы. Вы должны быть очень внимательны, чтобы не потерять ни один документ. Каталог документов хранится в следующем виде:"
   ]
  },
  {
   "cell_type": "code",
   "execution_count": 133,
   "metadata": {},
   "outputs": [],
   "source": [
    "documents = [\n",
    "    {'type': 'passport', 'number': '2207 876234', 'name': 'Василий Гупкин'},\n",
    "    {'type': 'invoice', 'number': '11-2', 'name': 'Геннадий Покемонов'},\n",
    "    {'type': 'insurance', 'number': '10006', 'name': 'Аристарх Павлов'}\n",
    "]"
   ]
  },
  {
   "cell_type": "markdown",
   "metadata": {},
   "source": [
    "перечень полок:"
   ]
  },
  {
   "cell_type": "code",
   "execution_count": 132,
   "metadata": {},
   "outputs": [],
   "source": [
    "directories = {\n",
    "    '1': ['2207 876234', '11-2'],\n",
    "    '2': ['10006'],\n",
    "    '3': []\n",
    "}"
   ]
  },
  {
   "cell_type": "markdown",
   "metadata": {},
   "source": [
    "Необходимо реализовать пользовательские команды (внимание! это не название функций, которые должны быть выразительными, а команды, которые вводит пользователь, чтобы получить необходимый результат):\n",
    "\n",
    "p – people – команда, которая спросит номер документа и выведет имя человека, которому он принадлежит; s – shelf – команда, которая спросит номер документа и выведет номер полки, на которой он находится Правильно обработайте ситуации, когда пользователь будет вводить несуществующий документ. l – list – команда, которая выведет список всех документов в формате passport \"2207 876234\" \"Василий Гупкин\" as – add shelf – команда, которая спросит номер новой полки и добавит ее в перечень. Предусмотрите случай, когда пользователь добавляет полку, которая уже существует. d – delete – команда, которая спросит номер документа и удалит его из каталога и из перечня полок. Предусмотрите сценарий, когда пользователь вводит несуществующий документ; m – move – команда, которая спросит номер документа и целевую полку и переместит его с текущей полки на целевую. Корректно обработайте кейсы, когда пользователь пытается переместить несуществующий документ или переместить документ на несуществующую полку; a – add – команда, которая добавит новый документ в каталог и в перечень полок, спросив его номер, тип, имя владельца и номер полки, на котором он будет храниться. Корректно обработайте ситуацию, когда пользователь будет пытаться добавить документ на несуществующую полку."
   ]
  },
  {
   "cell_type": "code",
   "execution_count": 3,
   "metadata": {},
   "outputs": [],
   "source": [
    "def input_num():\n",
    "    return input('Введите номер документа: ')"
   ]
  },
  {
   "cell_type": "code",
   "execution_count": 4,
   "metadata": {},
   "outputs": [],
   "source": [
    "# команда, которая спросит номер документа и выведет имя человека, которому он принадлежит  \n",
    "def get_people(documentss, docnum):\n",
    "    for num in documentss:\n",
    "        if docnum == num['number']:\n",
    "            return num['name'] \n",
    "    return 'документа не существует'"
   ]
  },
  {
   "cell_type": "code",
   "execution_count": 5,
   "metadata": {},
   "outputs": [
    {
     "name": "stdout",
     "output_type": "stream",
     "text": [
      "Введите номер документа: 1\n",
      "документа не существует\n"
     ]
    }
   ],
   "source": [
    "print(get_people(documents, input_num()))"
   ]
  },
  {
   "cell_type": "code",
   "execution_count": 6,
   "metadata": {},
   "outputs": [],
   "source": [
    "# команда, которая спросит номер документа и выведет номер полки\n",
    "def get_shelf (directoriess, shelf, default='Документ не найден'):\n",
    "    for shelfs, doc in directoriess.items():\n",
    "        if shelf in doc:\n",
    "            return shelfs\n",
    "    return default"
   ]
  },
  {
   "cell_type": "code",
   "execution_count": 7,
   "metadata": {},
   "outputs": [
    {
     "name": "stdout",
     "output_type": "stream",
     "text": [
      "Введите номер документа: 1\n",
      "Документ не найден\n"
     ]
    }
   ],
   "source": [
    "print(get_shelf(directories, input_num()))\n",
    "# get_shelf(directories)"
   ]
  },
  {
   "cell_type": "code",
   "execution_count": 8,
   "metadata": {},
   "outputs": [],
   "source": [
    "# команда, которая выведет список всех документов в формате passport \"2207 876234\" \"Василий Гупкин\" \n",
    "def all_doc(documentss):\n",
    "    for all_ in documentss:\n",
    "        print(f'passport \"{all_[\"number\"]}\" \"{all_[\"name\"]}\"')"
   ]
  },
  {
   "cell_type": "code",
   "execution_count": 9,
   "metadata": {},
   "outputs": [
    {
     "name": "stdout",
     "output_type": "stream",
     "text": [
      "passport \"2207 876234\" \"Василий Гупкин\"\n",
      "passport \"11-2\" \"Геннадий Покемонов\"\n",
      "passport \"10006\" \"Аристарх Павлов\"\n"
     ]
    }
   ],
   "source": [
    "all_doc(documents)"
   ]
  },
  {
   "cell_type": "markdown",
   "metadata": {},
   "source": []
  },
  {
   "cell_type": "code",
   "execution_count": 10,
   "metadata": {},
   "outputs": [],
   "source": [
    "# add shelf – команда, которая спросит номер новой полки и добавит ее в перечень.  \n",
    "def add_shelf(directoriess, num_shelf):\n",
    "    if num_shelf not in directoriess:\n",
    "        directoriess[num_shelf] = []   \n",
    "        return 'добавлена полка'\n",
    "    return 'полка существует'"
   ]
  },
  {
   "cell_type": "code",
   "execution_count": 11,
   "metadata": {},
   "outputs": [
    {
     "name": "stdout",
     "output_type": "stream",
     "text": [
      "Введите номер документа: 1\n",
      "полка существует\n"
     ]
    }
   ],
   "source": [
    "print(add_shelf(directories, input_num()))"
   ]
  },
  {
   "cell_type": "code",
   "execution_count": 12,
   "metadata": {},
   "outputs": [
    {
     "name": "stdout",
     "output_type": "stream",
     "text": [
      "{'1': ['2207 876234', '11-2'], '2': ['10006'], '3': []}\n"
     ]
    }
   ],
   "source": [
    "print(directories)"
   ]
  },
  {
   "cell_type": "markdown",
   "metadata": {},
   "source": [
    "d – delete – команда, которая спросит номер документа и удалит его из каталога и из перечня полок. Предусмотрите сценарий, когда пользователь вводит несуществующий документ;\n",
    "\n",
    "]"
   ]
  },
  {
   "cell_type": "code",
   "execution_count": 13,
   "metadata": {},
   "outputs": [],
   "source": [
    "def delete_dir(directoriess_, deldoc):\n",
    "    for all_shelf in directoriess_.values():\n",
    "        if deldoc in all_shelf:\n",
    "            return all_shelf.pop(all_shelf.index(deldoc))\n",
    "def delete_doc(documentss_, deldoc):\n",
    "    for index, num in enumerate(documentss_):\n",
    "        if deldoc == num['number']:\n",
    "            return documentss_.pop(index)\n",
    "def delete_all(directoriess_, documentss_, deldoc):\n",
    "    if delete_dir(directoriess_, deldoc) and delete_doc(documentss_, deldoc):\n",
    "        return 'документ удален'\n",
    "    else: \n",
    "        return 'документа нет'"
   ]
  },
  {
   "cell_type": "code",
   "execution_count": 14,
   "metadata": {
    "scrolled": true
   },
   "outputs": [
    {
     "name": "stdout",
     "output_type": "stream",
     "text": [
      "Введите номер документа: 1\n",
      "документа нет\n"
     ]
    }
   ],
   "source": [
    "print(delete_all(directories, documents, input_num()))"
   ]
  },
  {
   "cell_type": "code",
   "execution_count": 15,
   "metadata": {},
   "outputs": [
    {
     "name": "stdout",
     "output_type": "stream",
     "text": [
      "{'1': ['2207 876234', '11-2'], '2': ['10006'], '3': []}\n"
     ]
    }
   ],
   "source": [
    "print(directories)"
   ]
  },
  {
   "cell_type": "markdown",
   "metadata": {},
   "source": []
  },
  {
   "cell_type": "code",
   "execution_count": 16,
   "metadata": {},
   "outputs": [],
   "source": [
    "def input_shelf():\n",
    "    return input('Введите целевую полку: ')"
   ]
  },
  {
   "cell_type": "code",
   "execution_count": 17,
   "metadata": {},
   "outputs": [],
   "source": [
    "def move_number(directories_, shelf, docnums):\n",
    "    if shelf not in directories_:\n",
    "        return 'полки нет'\n",
    "    for num_docs in directories_.values():\n",
    "        if docnums in num_docs:\n",
    "            if docnums in directories_[shelf]:\n",
    "                return 'документ уже находится на полке'\n",
    "            directories_[shelf].append(num_docs.pop(num_docs.index(docnums)))\n",
    "            return 'документ перенесен'\n",
    "    return 'документа нет'"
   ]
  },
  {
   "cell_type": "code",
   "execution_count": 18,
   "metadata": {},
   "outputs": [
    {
     "name": "stdout",
     "output_type": "stream",
     "text": [
      "Введите целевую полку: 1\n",
      "Введите номер документа: 1\n",
      "документа нет\n"
     ]
    }
   ],
   "source": [
    "print(move_number(directories, input_shelf(), input_num()))"
   ]
  },
  {
   "cell_type": "code",
   "execution_count": 19,
   "metadata": {},
   "outputs": [
    {
     "name": "stdout",
     "output_type": "stream",
     "text": [
      "{'1': ['2207 876234', '11-2'], '2': ['10006'], '3': []}\n"
     ]
    }
   ],
   "source": [
    "print(directories)"
   ]
  },
  {
   "cell_type": "markdown",
   "metadata": {},
   "source": []
  },
  {
   "cell_type": "code",
   "execution_count": 20,
   "metadata": {},
   "outputs": [],
   "source": [
    "def input_type():\n",
    "    return input('Введите тип документа: ')"
   ]
  },
  {
   "cell_type": "code",
   "execution_count": 21,
   "metadata": {},
   "outputs": [],
   "source": [
    "def input_name():\n",
    "    return input('Введите имя: ')"
   ]
  },
  {
   "cell_type": "code",
   "execution_count": 124,
   "metadata": {},
   "outputs": [],
   "source": [
    "def add_all_doc(documentss, numdoc):\n",
    "        for docses in documentss:\n",
    "            if numdoc == docses['number']:\n",
    "                print('документ  существует')\n",
    "                return True\n",
    "        documentss.append({'type':input('Введите тип документа: '), 'number':numdoc, 'names':input('Введите имя: ')})"
   ]
  },
  {
   "cell_type": "code",
   "execution_count": 26,
   "metadata": {},
   "outputs": [
    {
     "name": "stdout",
     "output_type": "stream",
     "text": [
      "Введите номер документа: 10006\n",
      "Введите тип документа: з\n",
      "Введите имя: з\n",
      "док существует\n"
     ]
    }
   ],
   "source": [
    "print(add_all_doc(documents, input_num(), input_type(), input_name()))"
   ]
  },
  {
   "cell_type": "code",
   "execution_count": 24,
   "metadata": {},
   "outputs": [
    {
     "name": "stdout",
     "output_type": "stream",
     "text": [
      "[{'type': 'passport', 'number': '2207 876234', 'name': 'Василий Гупкин'}, {'type': 'invoice', 'number': '11-2', 'name': 'Геннадий Покемонов'}, {'type': 'insurance', 'number': '10006', 'name': 'Аристарх Павлов'}, {'type': 'pass', 'number': '10006', 'names': 'vasya'}, {'type': 'pass', 'number': '10006', 'names': 'vasya'}]\n"
     ]
    }
   ],
   "source": [
    "print(documents)"
   ]
  },
  {
   "cell_type": "code",
   "execution_count": 140,
   "metadata": {},
   "outputs": [],
   "source": [
    "def add_all_dir(directoriess, numdoc, shelf):\n",
    "    if shelf not in directoriess:\n",
    "        print('полки не существует')\n",
    "        return True\n",
    "    for alld in directoriess.values():\n",
    "        if numdoc in alld:\n",
    "            print('такой документ уже существует')\n",
    "            return True\n",
    "    directoriess[shelf].append(numdoc)     \n",
    "    \n",
    "def add_all_doc_(documentss, directoriess,numdoc, shelf):\n",
    "    if add_all_dir(directoriess, numdoc, shelf):\n",
    "        return\n",
    "    if  add_all_doc(documentss, numdoc): \n",
    "        return\n",
    "    print('документ создан')\n",
    "    "
   ]
  },
  {
   "cell_type": "code",
   "execution_count": 146,
   "metadata": {},
   "outputs": [
    {
     "name": "stdout",
     "output_type": "stream",
     "text": [
      "Введите номер документа: 3\n",
      "Введите целевую полку: 3\n",
      "Введите тип документа: 3\n",
      "Введите имя: 3\n",
      "документ создан\n"
     ]
    }
   ],
   "source": [
    "add_all_doc_(documents, directories, input_num(), input_shelf())"
   ]
  },
  {
   "cell_type": "code",
   "execution_count": 147,
   "metadata": {},
   "outputs": [
    {
     "name": "stdout",
     "output_type": "stream",
     "text": [
      "{'1': ['2207 876234', '11-2', '55555'], '2': ['10006', '333'], '3': ['303', '3']} [{'type': 'passport', 'number': '2207 876234', 'name': 'Василий Гупкин'}, {'type': 'invoice', 'number': '11-2', 'name': 'Геннадий Покемонов'}, {'type': 'insurance', 'number': '10006', 'name': 'Аристарх Павлов'}, {'type': 'pas', 'number': '303', 'names': 'vs'}, {'type': 'psa', 'number': '333', 'names': 'sa'}, {'type': 'pas', 'number': '55555', 'names': 's'}, {'type': '3', 'number': '3', 'names': '3'}]\n"
     ]
    }
   ],
   "source": [
    "print(directories, documents)"
   ]
  },
  {
   "cell_type": "code",
   "execution_count": 149,
   "metadata": {},
   "outputs": [],
   "source": [
    "def main():\n",
    "    while True:\n",
    "        command = input('Введите команду: ').lower()\n",
    "        if command == 'p':\n",
    "            print(get_people(documents, input_num()))\n",
    "        elif command == 'l': \n",
    "            all_doc(documents)     \n",
    "        elif command == 's':    \n",
    "            print(get_shelf(directories, input_num()))\n",
    "        elif command == 'as':\n",
    "            print(add_shelf(directories, input_num()))\n",
    "        elif command == 'd':\n",
    "            print(delete_all(directories, documents, input_num()))\n",
    "        elif command == 'm':\n",
    "            print(move_number(directories, input_shelf(), input_num()))\n",
    "        elif command == 'a':    \n",
    "            add_all_doc_(documents, directories, input_num(), input_shelf())\n",
    "        elif command == 'q': \n",
    "            print('Выход из программы')\n",
    "            return\n",
    "        else:\n",
    "            print('Такой команды нет')\n",
    "  "
   ]
  },
  {
   "cell_type": "code",
   "execution_count": 151,
   "metadata": {},
   "outputs": [
    {
     "name": "stdout",
     "output_type": "stream",
     "text": [
      "Введите команду: h\n",
      "Такой команды нет\n",
      "Введите команду: q\n",
      "Выход из программы\n"
     ]
    }
   ],
   "source": [
    "main()"
   ]
  },
  {
   "cell_type": "code",
   "execution_count": null,
   "metadata": {},
   "outputs": [],
   "source": []
  }
 ],
 "metadata": {
  "kernelspec": {
   "display_name": "Python 3",
   "language": "python",
   "name": "python3"
  },
  "language_info": {
   "codemirror_mode": {
    "name": "ipython",
    "version": 3
   },
   "file_extension": ".py",
   "mimetype": "text/x-python",
   "name": "python",
   "nbconvert_exporter": "python",
   "pygments_lexer": "ipython3",
   "version": "3.7.6"
  }
 },
 "nbformat": 4,
 "nbformat_minor": 4
}
