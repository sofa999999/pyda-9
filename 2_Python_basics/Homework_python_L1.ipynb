{
 "cells": [
  {
   "cell_type": "code",
   "execution_count": 4,
   "metadata": {},
   "outputs": [
    {
     "data": {
      "text/plain": [
       "True"
      ]
     },
     "execution_count": 4,
     "metadata": {},
     "output_type": "execute_result"
    }
   ],
   "source": [
    "long_phrase = 'fg                      h'\n",
    "short_phrase = 'fgv      h'\n",
    "len (long_phrase) > len (short_phrase)\n"
   ]
  },
  {
   "cell_type": "code",
   "execution_count": 2,
   "metadata": {},
   "outputs": [
    {
     "name": "stdout",
     "output_type": "stream",
     "text": [
      "Объем файла равен 8.38 Mb\n"
     ]
    }
   ],
   "source": [
    "bit = 8785441\n",
    "mb = bit / (2**20)\n",
    "var = round ( mb , 2)\n",
    "print ( 'Объем файла равен', var, 'Mb')"
   ]
  },
  {
   "cell_type": "code",
   "execution_count": 8,
   "metadata": {},
   "outputs": [
    {
     "name": "stdout",
     "output_type": "stream",
     "text": [
      "введите день рождения: 02\n",
      "введите месяц рождения: октябрь\n",
      "весы\n"
     ]
    }
   ],
   "source": [
    "day = int(input('введите день рождения: '))\n",
    "mounth = input('введите месяц рождения: ')\n",
    "if (21 <= day <= 31 and mounth == 'март') or (1 <= day <= 20 and mounth == 'апрель'):\n",
    "    print ('овен')\n",
    "elif (21 <= day <= 30 and mounth == 'апрель') or (1 <= day <= 20 and mounth == 'май'):\n",
    "    print ('телец')\n",
    "elif (21 <= day <= 31 and mounth == 'май') or (1 <= day <= 21 and mounth == 'июнь'):\n",
    "    print ('близнецы')\n",
    "elif (22 <= day <= 30 and mounth == 'июнь') or (1 <= day <= 22 and mounth == 'июль'):\n",
    "    print ('рак')\n",
    "elif (23 <= day <= 31 and mounth == 'июль') or (1 <= day <= 23 and mounth == 'август'):\n",
    "    print ('лев')\n",
    "elif (24 <= day <= 31 and mounth == 'август') or (1 <= day <= 23 and mounth == 'сентябрь'):\n",
    "    print ('дева')\n",
    "elif (24 <= day <= 30 and mounth == 'сентябрь') or (1 <= day <= 23 and mounth == 'октябрь'):\n",
    "    print ('весы')\n",
    "elif (24 <= day <= 31 and mounth == 'октябрь') or (1 <= day <= 22 and mounth == 'ноябрь'):\n",
    "    print ('скорпион')\n",
    "elif (23 <= day <= 30 and mounth == 'ноябрь') or (1 <= day <= 21 and mounth == 'декабрь'):\n",
    "    print ('стрелец')\n",
    "elif (22 <= day <= 31 and mounth == 'декабрь') or (1 <= day <= 20 and mounth == 'январь'):\n",
    "    print ('козерог')\n",
    "elif (21 <= day <= 31 and mounth == 'январь') or (1 <= day <= 20 and mounth == 'февраль'):\n",
    "    print ('водолей')\n",
    "elif (21 <= day <= 29 and mounth == 'февраль') or (1 <= day <= 20 and mounth == 'март'):\n",
    "    print ('рыбы')\n",
    "else:\n",
    "    \n",
    "    \n",
    "    print ('ПРОВЕРЬТЕ ВВЕДЕННЫЕ ДАННЫЕ')\n",
    "    \n",
    "    "
   ]
  },
  {
   "cell_type": "code",
   "execution_count": 14,
   "metadata": {
    "scrolled": true
   },
   "outputs": [
    {
     "name": "stdout",
     "output_type": "stream",
     "text": [
      "Введите заработную плату в месяц: 100000\n",
      "Введите сколько процентов уходит на ипотеку: 30\n",
      "Введите сколько процентов уходит на жизнь: 50\n",
      "Введите количество премий за год: 2\n",
      "На ипотеку было потрачено:  313200 Было накоплено:  295800\n"
     ]
    }
   ],
   "source": [
    "salary = int(input('Введите заработную плату в месяц: '))\n",
    "#print(type(salary))\n",
    "perc_of_salary_for_a_mortgage = int(input('Введите сколько процентов уходит на ипотеку: '))\n",
    "#print(type(perc_of_salary_for_a_mortgage))\n",
    "perc_of_salary_for_a_living = int(input('Введите сколько процентов уходит на жизнь: '))\n",
    "#print(type(perc_of_salary_for_a_living))\n",
    "premium = int(input('Введите количество премий за год: '))\n",
    "#print(type(premium)) \n",
    "\n",
    "net_salary = salary * 0.87\n",
    "expenses_for_a_mortgage = (perc_of_salary_for_a_mortgage * net_salary / 100) * 12\n",
    "expenses_for_a_living = (perc_of_salary_for_a_living * net_salary / 100) * 12\n",
    "ost_old = (premium * salary / 2) * 0.87\n",
    "old = (net_salary * 12) - expenses_for_a_mortgage - expenses_for_a_living + ost_old\n",
    "var1 = round(expenses_for_a_mortgage)\n",
    "var2= round(old)\n",
    "print ('На ипотеку было потрачено: ', var1, 'Было накоплено: ', var2)\n"
   ]
  },
  {
   "cell_type": "code",
   "execution_count": null,
   "metadata": {},
   "outputs": [],
   "source": []
  },
  {
   "cell_type": "code",
   "execution_count": null,
   "metadata": {},
   "outputs": [],
   "source": []
  }
 ],
 "metadata": {
  "kernelspec": {
   "display_name": "Python 3",
   "language": "python",
   "name": "python3"
  },
  "language_info": {
   "codemirror_mode": {
    "name": "ipython",
    "version": 3
   },
   "file_extension": ".py",
   "mimetype": "text/x-python",
   "name": "python",
   "nbconvert_exporter": "python",
   "pygments_lexer": "ipython3",
   "version": "3.7.6"
  }
 },
 "nbformat": 4,
 "nbformat_minor": 4
}
